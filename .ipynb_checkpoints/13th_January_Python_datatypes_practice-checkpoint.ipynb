{
 "cells": [
  {
   "cell_type": "code",
   "execution_count": null,
   "id": "47cca761",
   "metadata": {},
   "outputs": [],
   "source": [
    "Input : test_dict = {“Gfg” : [5, 7, 9, 4, 0], “is” : [6, 7, 4, 3, 3], “Best” : [9, 9, 6, 5, 5]}\n",
    "Output : “Gfg”\n",
    "Explanation : “Gfg” having max unique elements i.e 5.\n",
    "\n",
    "Input : test_dict = {“Gfg” : [5, 7, 7, 7, 7], “is” : [6, 7, 7, 7], “Best” : [9, 9, 6, 5, 5]}\n",
    "Output : “Best”\n",
    "Explanation : 3 (max) unique elements, 9, 6, 5 of “Best”."
   ]
  },
  {
   "cell_type": "code",
   "execution_count": 34,
   "id": "1fa7234f",
   "metadata": {},
   "outputs": [],
   "source": [
    "test_dict = {\"Gfg\" : [5, 7, 9, 4, 0], \"is\" : [6, 7, 4, 3, 3], \"Best\" : [9, 9, 6, 5, 5]}"
   ]
  },
  {
   "cell_type": "code",
   "execution_count": 39,
   "id": "17173111",
   "metadata": {},
   "outputs": [],
   "source": [
    "key_with_most_unique = \"\"\n",
    "count_most_unique_till_now = -1\n",
    "for key,value in test_dict.items():    \n",
    "    unique_cnt = len(set(value))\n",
    "    \n",
    "    if unique_cnt>=count_most_unique_till_now:\n",
    "        key_with_most_unique = key\n",
    "        count_most_unique_till_now = unique_cnt\n",
    "        "
   ]
  },
  {
   "cell_type": "code",
   "execution_count": 40,
   "id": "b3c558bd",
   "metadata": {},
   "outputs": [
    {
     "data": {
      "text/plain": [
       "'Gfg'"
      ]
     },
     "execution_count": 40,
     "metadata": {},
     "output_type": "execute_result"
    }
   ],
   "source": [
    "key_with_most_unique"
   ]
  },
  {
   "cell_type": "code",
   "execution_count": null,
   "id": "3ad9167f",
   "metadata": {},
   "outputs": [],
   "source": []
  },
  {
   "cell_type": "code",
   "execution_count": null,
   "id": "57a323f7",
   "metadata": {},
   "outputs": [],
   "source": []
  },
  {
   "cell_type": "code",
   "execution_count": null,
   "id": "92e5847a",
   "metadata": {},
   "outputs": [],
   "source": []
  },
  {
   "cell_type": "code",
   "execution_count": null,
   "id": "29514f8e",
   "metadata": {},
   "outputs": [],
   "source": [
    "Gfg = 5 unique numbers in the list\n",
    "is =  4 unique numbers in the list\n",
    "Best = 3 unique numbers in the list"
   ]
  },
  {
   "cell_type": "code",
   "execution_count": 25,
   "id": "156f7c77",
   "metadata": {},
   "outputs": [
    {
     "data": {
      "text/plain": [
       "'Gfg'"
      ]
     },
     "execution_count": 25,
     "metadata": {},
     "output_type": "execute_result"
    }
   ],
   "source": [
    "unique_cnt = {}\n",
    "for key,value in test_dict.items():\n",
    "#     print(key,\"------->\",len(set(value)))\n",
    "    unique_cnt[key] = len(set(value))\n",
    "sorted(unique_cnt.items(),key = lambda x:x[1],reverse=True)[0][0]"
   ]
  },
  {
   "cell_type": "code",
   "execution_count": 30,
   "id": "4927e38e",
   "metadata": {},
   "outputs": [],
   "source": [
    "lot = [(1,6),(9,3),(5,2)]"
   ]
  },
  {
   "cell_type": "code",
   "execution_count": 33,
   "id": "06b70eb4",
   "metadata": {},
   "outputs": [
    {
     "data": {
      "text/plain": [
       "[(1, 6), (9, 3), (5, 2)]"
      ]
     },
     "execution_count": 33,
     "metadata": {},
     "output_type": "execute_result"
    }
   ],
   "source": [
    "sorted(lot,key=lambda arg:arg[1],reverse=True)"
   ]
  },
  {
   "cell_type": "code",
   "execution_count": null,
   "id": "b177df6b",
   "metadata": {},
   "outputs": [],
   "source": []
  },
  {
   "cell_type": "code",
   "execution_count": null,
   "id": "ff70bb88",
   "metadata": {},
   "outputs": [],
   "source": []
  },
  {
   "cell_type": "code",
   "execution_count": 7,
   "id": "e3512980",
   "metadata": {},
   "outputs": [
    {
     "data": {
      "text/plain": [
       "{'Gfg': 5, 'is': 4, 'Best': 3}"
      ]
     },
     "execution_count": 7,
     "metadata": {},
     "output_type": "execute_result"
    }
   ],
   "source": [
    "unique_cnt"
   ]
  },
  {
   "cell_type": "code",
   "execution_count": 20,
   "id": "d0566187",
   "metadata": {},
   "outputs": [
    {
     "data": {
      "text/plain": [
       "'Gfg'"
      ]
     },
     "execution_count": 20,
     "metadata": {},
     "output_type": "execute_result"
    }
   ],
   "source": [
    "sorted(unique_cnt.items(),key = lambda x:x[1],reverse=True)[0][0]"
   ]
  },
  {
   "cell_type": "code",
   "execution_count": 16,
   "id": "e4336f17",
   "metadata": {},
   "outputs": [
    {
     "name": "stdout",
     "output_type": "stream",
     "text": [
      "('Gfg', 5)\n",
      "('is', 4)\n",
      "('Best', 3)\n"
     ]
    }
   ],
   "source": [
    "for key in unique_cnt.items():\n",
    "    print(key)"
   ]
  },
  {
   "cell_type": "code",
   "execution_count": 44,
   "id": "8e83de5e",
   "metadata": {},
   "outputs": [],
   "source": [
    "## Find the average sale,min_sale,max_sale of each shop and store it in a dictionary\n",
    "shop_dict_avg = {\"Shop1\":{\"avg_sale\":5,\"min_sale\":0,\"max_sale\":9},\"Shop2\":{\"avg_sale\":.7},\"Shop3\":{6.8}}"
   ]
  },
  {
   "cell_type": "code",
   "execution_count": 45,
   "id": "fad9933c",
   "metadata": {},
   "outputs": [
    {
     "data": {
      "text/plain": [
       "{'Shop1': 5, 'Shop2': 4.7, 'Shop3': 6.8}"
      ]
     },
     "execution_count": 45,
     "metadata": {},
     "output_type": "execute_result"
    }
   ],
   "source": [
    "shop_dict_avg"
   ]
  },
  {
   "cell_type": "code",
   "execution_count": 47,
   "id": "88ad15f8",
   "metadata": {},
   "outputs": [
    {
     "name": "stdout",
     "output_type": "stream",
     "text": [
      "{'Shop1': [5, 7, 9, 4, 0], 'Shop2': [6, 7, 4, 3, 3], 'Shop3': [9, 9, 6, 5, 5]}\n"
     ]
    }
   ],
   "source": [
    "print(shop_dict)"
   ]
  },
  {
   "cell_type": "code",
   "execution_count": 51,
   "id": "db44ac52",
   "metadata": {},
   "outputs": [],
   "source": [
    "shop_dict_stats = {}\n",
    "for shop_name,shop_sale in shop_dict.items():\n",
    "    average_sale = sum(shop_sale)/len(shop_sale)\n",
    "    min_sale = min(shop_sale)\n",
    "    max_sale = max(shop_sale)\n",
    "    shop_dict_stats[shop_name] = {\"average\":average_sale,\"min_sale\":min_sale,\"max_sale\":max_sale}\n",
    "    \n",
    "    \n",
    "    "
   ]
  },
  {
   "cell_type": "code",
   "execution_count": 52,
   "id": "0f10fbfd",
   "metadata": {},
   "outputs": [
    {
     "data": {
      "text/plain": [
       "{'Shop1': {'average': 5.0, 'min_sale': 0, 'max_sale': 9},\n",
       " 'Shop2': {'average': 4.6, 'min_sale': 3, 'max_sale': 7},\n",
       " 'Shop3': {'average': 6.8, 'min_sale': 5, 'max_sale': 9}}"
      ]
     },
     "execution_count": 52,
     "metadata": {},
     "output_type": "execute_result"
    }
   ],
   "source": [
    "shop_dict_stats"
   ]
  },
  {
   "cell_type": "code",
   "execution_count": 71,
   "id": "043032d0",
   "metadata": {},
   "outputs": [],
   "source": [
    "shop_dict = {\"Shop1\" : [5, 7, 9, 4, 0], \"Shop2\" : [6, 7, 4, 3, 3], \"Shop3\" : [9, 9, 6, 5, 5]}"
   ]
  },
  {
   "cell_type": "code",
   "execution_count": 74,
   "id": "7a0b07c4",
   "metadata": {},
   "outputs": [],
   "source": [
    "shop_dict_report={}\n",
    "my_dict={\"avg_sale\":0,\"min_sale\":0,\"max_sale\":0}\n",
    "for k,v in shop_dict.items():\n",
    "    new_my_dict = my_dict.copy()\n",
    "    shop_dict_report[k]=new_my_dict\n",
    "    for k1,v1 in new_my_dict.items():\n",
    "        if k1==\"avg_sale\":\n",
    "            new_my_dict[k1]=sum(v)/len(v)\n",
    "        elif k1 ==\"min_sale\":\n",
    "            new_my_dict[k1] = min(v)\n",
    "        else:\n",
    "            new_my_dict[k1] = max(v)"
   ]
  },
  {
   "cell_type": "code",
   "execution_count": 75,
   "id": "4576658e",
   "metadata": {},
   "outputs": [
    {
     "data": {
      "text/plain": [
       "{'Shop1': {'avg_sale': 5.0, 'min_sale': 0, 'max_sale': 9},\n",
       " 'Shop2': {'avg_sale': 4.6, 'min_sale': 3, 'max_sale': 7},\n",
       " 'Shop3': {'avg_sale': 6.8, 'min_sale': 5, 'max_sale': 9}}"
      ]
     },
     "execution_count": 75,
     "metadata": {},
     "output_type": "execute_result"
    }
   ],
   "source": [
    "shop_dict_report"
   ]
  },
  {
   "cell_type": "code",
   "execution_count": 57,
   "id": "9c943822",
   "metadata": {},
   "outputs": [],
   "source": [
    "shop_dict_report[\"Shop1\"]['avg_sale'] = 6"
   ]
  },
  {
   "cell_type": "code",
   "execution_count": 59,
   "id": "6ef3cfd7",
   "metadata": {},
   "outputs": [
    {
     "data": {
      "text/plain": [
       "{'avg_sale': 6, 'min_sale': 0, 'max_sale': 0}"
      ]
     },
     "execution_count": 59,
     "metadata": {},
     "output_type": "execute_result"
    }
   ],
   "source": [
    "shop_dict_report[\"Shop1\"]"
   ]
  },
  {
   "cell_type": "code",
   "execution_count": 58,
   "id": "a228193f",
   "metadata": {},
   "outputs": [
    {
     "data": {
      "text/plain": [
       "{'Shop1': {'avg_sale': 6, 'min_sale': 0, 'max_sale': 0},\n",
       " 'Shop2': {'avg_sale': 6, 'min_sale': 0, 'max_sale': 0},\n",
       " 'Shop3': {'avg_sale': 6, 'min_sale': 0, 'max_sale': 0}}"
      ]
     },
     "execution_count": 58,
     "metadata": {},
     "output_type": "execute_result"
    }
   ],
   "source": [
    "shop_dict_report"
   ]
  },
  {
   "cell_type": "code",
   "execution_count": 1,
   "id": "ae7d2eac",
   "metadata": {},
   "outputs": [],
   "source": [
    "## Find the average sale,min_sale,max_sale of each shop and store it in a dictionary\n",
    "shop_dict_avg = {\"Shop1\":{\"avg_sale\":5,\"min_sale\":0,\"max_sale\":9},\"Shop2\":{\"avg_sale\":.7},\"Shop3\":{6.8}}"
   ]
  },
  {
   "cell_type": "code",
   "execution_count": null,
   "id": "6dc46ad3",
   "metadata": {},
   "outputs": [],
   "source": [
    "shop_dict_avg"
   ]
  }
 ],
 "metadata": {
  "kernelspec": {
   "display_name": "Python 3 (ipykernel)",
   "language": "python",
   "name": "python3"
  },
  "language_info": {
   "codemirror_mode": {
    "name": "ipython",
    "version": 3
   },
   "file_extension": ".py",
   "mimetype": "text/x-python",
   "name": "python",
   "nbconvert_exporter": "python",
   "pygments_lexer": "ipython3",
   "version": "3.9.13"
  }
 },
 "nbformat": 4,
 "nbformat_minor": 5
}
