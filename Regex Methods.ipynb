{
 "cells": [
  {
   "cell_type": "code",
   "execution_count": 2,
   "id": "4f29340c",
   "metadata": {},
   "outputs": [],
   "source": [
    "import re"
   ]
  },
  {
   "cell_type": "code",
   "execution_count": 10,
   "id": "3051d593",
   "metadata": {},
   "outputs": [],
   "source": [
    "text = \"Hi my name is Prithvi 234.I am a student of Edyoda.My zoom name is also Prithvi\"\n"
   ]
  },
  {
   "cell_type": "code",
   "execution_count": 11,
   "id": "cb76edc5",
   "metadata": {},
   "outputs": [
    {
     "data": {
      "text/plain": [
       "['234']"
      ]
     },
     "execution_count": 11,
     "metadata": {},
     "output_type": "execute_result"
    }
   ],
   "source": [
    "re.findall(\"\\d+\",text)"
   ]
  },
  {
   "cell_type": "code",
   "execution_count": 71,
   "id": "020f1583",
   "metadata": {},
   "outputs": [],
   "source": [
    "match_object = re.search(\"\\d+\",text)"
   ]
  },
  {
   "cell_type": "code",
   "execution_count": 73,
   "id": "034a57e4",
   "metadata": {},
   "outputs": [
    {
     "data": {
      "text/plain": [
       "' Heather Albrecht: 548.326.4584 919 Park Place'"
      ]
     },
     "execution_count": 73,
     "metadata": {},
     "output_type": "execute_result"
    }
   ],
   "source": [
    "match_object.string"
   ]
  },
  {
   "cell_type": "code",
   "execution_count": 8,
   "id": "c17177b2",
   "metadata": {},
   "outputs": [
    {
     "data": {
      "text/plain": [
       "'Prithvi'"
      ]
     },
     "execution_count": 8,
     "metadata": {},
     "output_type": "execute_result"
    }
   ],
   "source": [
    "text[14:21]"
   ]
  },
  {
   "cell_type": "code",
   "execution_count": 17,
   "id": "99b006ee",
   "metadata": {},
   "outputs": [],
   "source": [
    "text = \"Hi my name is @Prithvi.My twitter handle is @Prtihvi\""
   ]
  },
  {
   "cell_type": "code",
   "execution_count": 18,
   "id": "fd8c919d",
   "metadata": {},
   "outputs": [
    {
     "data": {
      "text/plain": [
       "['Hi my name is ', 'Prithvi.My twitter handle is ', 'Prtihvi']"
      ]
     },
     "execution_count": 18,
     "metadata": {},
     "output_type": "execute_result"
    }
   ],
   "source": [
    "text.split(\"@\")"
   ]
  },
  {
   "cell_type": "code",
   "execution_count": 15,
   "id": "906c38dc",
   "metadata": {},
   "outputs": [
    {
     "data": {
      "text/plain": [
       "['Hi my name is ', 'Prithvi.My twitter handle is ', 'Prtihvi']"
      ]
     },
     "execution_count": 15,
     "metadata": {},
     "output_type": "execute_result"
    }
   ],
   "source": [
    "re.split(\"@\",text)"
   ]
  },
  {
   "cell_type": "code",
   "execution_count": 22,
   "id": "866274b1",
   "metadata": {},
   "outputs": [],
   "source": [
    "text = \"Hi my name is @@@Prithvi.My twitter handle is @Prtihvi\""
   ]
  },
  {
   "cell_type": "code",
   "execution_count": 23,
   "id": "115eca2d",
   "metadata": {},
   "outputs": [
    {
     "data": {
      "text/plain": [
       "['Hi my name is ', 'Prithvi.My twitter handle is @Prtihvi']"
      ]
     },
     "execution_count": 23,
     "metadata": {},
     "output_type": "execute_result"
    }
   ],
   "source": [
    "re.split(\"@+\",text,maxsplit=1)"
   ]
  },
  {
   "cell_type": "code",
   "execution_count": 21,
   "id": "65be57f5",
   "metadata": {},
   "outputs": [
    {
     "data": {
      "text/plain": [
       "['Hi my name is ', '', '', 'Prithvi.My twitter handle is ', 'Prtihvi']"
      ]
     },
     "execution_count": 21,
     "metadata": {},
     "output_type": "execute_result"
    }
   ],
   "source": [
    "text.split(\"@\")"
   ]
  },
  {
   "cell_type": "code",
   "execution_count": 24,
   "id": "609cb816",
   "metadata": {},
   "outputs": [],
   "source": [
    "text = \"Hi my name is @@@Prithvi.My twitter handle is @Prtihvi\""
   ]
  },
  {
   "cell_type": "code",
   "execution_count": 26,
   "id": "f3ce04cd",
   "metadata": {},
   "outputs": [
    {
     "data": {
      "text/plain": [
       "'Hi my name is #Prithvi.My twitter handle is @Prtihvi'"
      ]
     },
     "execution_count": 26,
     "metadata": {},
     "output_type": "execute_result"
    }
   ],
   "source": [
    "re.sub(\"@+\",\"#\",text,count=1)"
   ]
  },
  {
   "cell_type": "code",
   "execution_count": 87,
   "id": "d3bf4cde",
   "metadata": {},
   "outputs": [],
   "source": [
    "text = \"\"\"Ross McFluff: 834.345.1254 155   Elm Street\n",
    " Ronald Heathmore: 892.345.3428 436 Finley Avenue\n",
    " Frank Burger: 925.541.7625 662 South Dogwood Way\n",
    " Heather Albrecht: 548.326.4584 919 Park Place\"\"\""
   ]
  },
  {
   "cell_type": "code",
   "execution_count": 28,
   "id": "ff0fbdda",
   "metadata": {},
   "outputs": [
    {
     "name": "stdout",
     "output_type": "stream",
     "text": [
      "Ross McFluff: 834.345.1254 155 Elm Street\n",
      " Ronald Heathmore: 892.345.3428 436 Finley Avenue\n",
      " Frank Burger: 925.541.7625 662 South Dogwood Way\n",
      " Heather Albrecht: 548.326.4584 919 Park Place\n"
     ]
    }
   ],
   "source": []
  },
  {
   "cell_type": "code",
   "execution_count": 29,
   "id": "2f08dd08",
   "metadata": {},
   "outputs": [],
   "source": [
    "first_string = \"Ross McFluff: 834.345.1254 155 Elm Street\""
   ]
  },
  {
   "cell_type": "code",
   "execution_count": 34,
   "id": "c727a61d",
   "metadata": {},
   "outputs": [],
   "source": [
    "# name and address\n",
    "name,address = re.split(\":\",first_string)"
   ]
  },
  {
   "cell_type": "code",
   "execution_count": 35,
   "id": "8f72035b",
   "metadata": {},
   "outputs": [
    {
     "data": {
      "text/plain": [
       "'Ross McFluff'"
      ]
     },
     "execution_count": 35,
     "metadata": {},
     "output_type": "execute_result"
    }
   ],
   "source": [
    "name"
   ]
  },
  {
   "cell_type": "code",
   "execution_count": 36,
   "id": "24704408",
   "metadata": {},
   "outputs": [
    {
     "data": {
      "text/plain": [
       "' 834.345.1254 155 Elm Street'"
      ]
     },
     "execution_count": 36,
     "metadata": {},
     "output_type": "execute_result"
    }
   ],
   "source": [
    "address"
   ]
  },
  {
   "cell_type": "code",
   "execution_count": 38,
   "id": "51b3bee7",
   "metadata": {},
   "outputs": [],
   "source": [
    "first_name,last_name = re.split(\"\\s\",name)"
   ]
  },
  {
   "cell_type": "code",
   "execution_count": 39,
   "id": "52a5ec59",
   "metadata": {},
   "outputs": [
    {
     "data": {
      "text/plain": [
       "'Ross'"
      ]
     },
     "execution_count": 39,
     "metadata": {},
     "output_type": "execute_result"
    }
   ],
   "source": [
    "first_name"
   ]
  },
  {
   "cell_type": "code",
   "execution_count": 40,
   "id": "1d59db1e",
   "metadata": {},
   "outputs": [
    {
     "data": {
      "text/plain": [
       "'McFluff'"
      ]
     },
     "execution_count": 40,
     "metadata": {},
     "output_type": "execute_result"
    }
   ],
   "source": [
    "last_name"
   ]
  },
  {
   "cell_type": "code",
   "execution_count": 43,
   "id": "f8a40b0c",
   "metadata": {},
   "outputs": [
    {
     "data": {
      "text/plain": [
       "['834.345.1254 155']"
      ]
     },
     "execution_count": 43,
     "metadata": {},
     "output_type": "execute_result"
    }
   ],
   "source": [
    "re.findall(\"\\d{3}\\.\\d{3}\\.\\d{4}\\s\\d{3}\",address)"
   ]
  },
  {
   "cell_type": "code",
   "execution_count": 45,
   "id": "d81cc9cd",
   "metadata": {},
   "outputs": [],
   "source": [
    "text_1 = re.sub(\":\",\" \",text)"
   ]
  },
  {
   "cell_type": "code",
   "execution_count": 46,
   "id": "7a3aef24",
   "metadata": {},
   "outputs": [
    {
     "data": {
      "text/plain": [
       "'Ross McFluff  834.345.1254 155 Elm Street\\n Ronald Heathmore  892.345.3428 436 Finley Avenue\\n Frank Burger  925.541.7625 662 South Dogwood Way\\n Heather Albrecht  548.326.4584 919 Park Place'"
      ]
     },
     "execution_count": 46,
     "metadata": {},
     "output_type": "execute_result"
    }
   ],
   "source": [
    "text_1"
   ]
  },
  {
   "cell_type": "code",
   "execution_count": 47,
   "id": "24759025",
   "metadata": {},
   "outputs": [
    {
     "data": {
      "text/plain": [
       "['Ross',\n",
       " 'McFluff',\n",
       " '834.345.1254',\n",
       " '155',\n",
       " 'Elm',\n",
       " 'Street',\n",
       " 'Ronald',\n",
       " 'Heathmore',\n",
       " '892.345.3428',\n",
       " '436',\n",
       " 'Finley',\n",
       " 'Avenue',\n",
       " 'Frank',\n",
       " 'Burger',\n",
       " '925.541.7625',\n",
       " '662',\n",
       " 'South',\n",
       " 'Dogwood',\n",
       " 'Way',\n",
       " 'Heather',\n",
       " 'Albrecht',\n",
       " '548.326.4584',\n",
       " '919',\n",
       " 'Park',\n",
       " 'Place']"
      ]
     },
     "execution_count": 47,
     "metadata": {},
     "output_type": "execute_result"
    }
   ],
   "source": [
    "text_1.split()"
   ]
  },
  {
   "cell_type": "code",
   "execution_count": 50,
   "id": "139f6850",
   "metadata": {},
   "outputs": [
    {
     "name": "stdout",
     "output_type": "stream",
     "text": [
      "['Ross', 'McFluff', '', '834.345.1254 155 Elm Street\\n Ronald Heathmore  892.345.3428 436 Finley Avenue\\n Frank Burger  925.541.7625 662 South Dogwood Way\\n Heather Albrecht  548.326.4584 919 Park Place']\n"
     ]
    }
   ],
   "source": [
    "split_text= re.split(\"\\s\", text_1,3)\n",
    "print(split_text)"
   ]
  },
  {
   "cell_type": "code",
   "execution_count": 88,
   "id": "514d9674",
   "metadata": {},
   "outputs": [],
   "source": [
    "text_1 = text.split(\"\\n\")"
   ]
  },
  {
   "cell_type": "code",
   "execution_count": 89,
   "id": "c23d62ba",
   "metadata": {},
   "outputs": [
    {
     "data": {
      "text/plain": [
       "['Ross McFluff: 834.345.1254 155   Elm Street',\n",
       " ' Ronald Heathmore: 892.345.3428 436 Finley Avenue',\n",
       " ' Frank Burger: 925.541.7625 662 South Dogwood Way',\n",
       " ' Heather Albrecht: 548.326.4584 919 Park Place']"
      ]
     },
     "execution_count": 89,
     "metadata": {},
     "output_type": "execute_result"
    }
   ],
   "source": [
    "text_1"
   ]
  },
  {
   "cell_type": "code",
   "execution_count": 96,
   "id": "087abf1e",
   "metadata": {},
   "outputs": [
    {
     "name": "stdout",
     "output_type": "stream",
     "text": [
      "first_name = Ross,last_name = McFluff, address=834.345.1254 155 address_end_pos = Elm Street\n",
      "first_name = Ronald,last_name = Heathmore, address=892.345.3428 436 address_end_pos = Finley Avenue\n",
      "first_name = Frank,last_name = Burger, address=925.541.7625 662 address_end_pos = South Dogwood Way\n",
      "first_name = Heather,last_name = Albrecht, address=548.326.4584 919 address_end_pos = Park Place\n"
     ]
    }
   ],
   "source": [
    "for text in text_1:\n",
    "    name,full_address = re.split(\":\",text)\n",
    "    name = name.strip()\n",
    "    full_address = full_address.strip()\n",
    "    first_name,last_name =re.split('\\s+',name)\n",
    "    address = re.search(\"\\d{3}\\.\\d{3}\\.\\d{4}\\s\\d{3}\",full_address)\n",
    "    street_name = full_address[address.end()+1:]\n",
    "    street_name = street_name.strip()\n",
    "    print(\"first_name = {},last_name = {}, address={} address_end_pos = {}\".format(first_name,last_name,address.group(),street_name))"
   ]
  },
  {
   "cell_type": "code",
   "execution_count": 85,
   "id": "7a9ab8cc",
   "metadata": {},
   "outputs": [
    {
     "data": {
      "text/plain": [
       "['', 'Ronald', 'Heathmore']"
      ]
     },
     "execution_count": 85,
     "metadata": {},
     "output_type": "execute_result"
    }
   ],
   "source": [
    "name = ' Ronald Heathmore'\n",
    "re.split(' ',name)"
   ]
  },
  {
   "cell_type": "code",
   "execution_count": null,
   "id": "02889069",
   "metadata": {},
   "outputs": [],
   "source": []
  }
 ],
 "metadata": {
  "kernelspec": {
   "display_name": "Python 3 (ipykernel)",
   "language": "python",
   "name": "python3"
  },
  "language_info": {
   "codemirror_mode": {
    "name": "ipython",
    "version": 3
   },
   "file_extension": ".py",
   "mimetype": "text/x-python",
   "name": "python",
   "nbconvert_exporter": "python",
   "pygments_lexer": "ipython3",
   "version": "3.10.7"
  }
 },
 "nbformat": 4,
 "nbformat_minor": 5
}
