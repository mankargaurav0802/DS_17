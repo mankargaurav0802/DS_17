{
 "cells": [
  {
   "cell_type": "code",
   "execution_count": 58,
   "id": "0ae65bdd",
   "metadata": {},
   "outputs": [],
   "source": [
    "class Employee:\n",
    "    emp_count = 0\n",
    "    def __init__(self,emp_id,name,salary,department,designation,contact,gender):\n",
    "        self.emp_id = emp_id\n",
    "        self.name = name\n",
    "        self.salary = salary\n",
    "        self.department = department\n",
    "        self.designation =  designation\n",
    "        self.contact = contact\n",
    "        self.gender = gender\n",
    "\n",
    "\n",
    "        Employee.emp_count+=1\n",
    "    \n",
    "    def display_emp_details(self):\n",
    "        print(\"EMP_ID:{}\\nNAME:{}\\nSALARY:{}\\nDEPARTMENT:{}\\nDESIGNATION:{}\\nCONTACT:{}\\nGENDER:{}\".format(self.emp_id,self.name,self.salary,self.department,self.designation,self.contact,self.gender))\n",
    "        \n",
    "        \n",
    "        \n",
    "        "
   ]
  },
  {
   "cell_type": "code",
   "execution_count": 62,
   "id": "6bb8616f",
   "metadata": {},
   "outputs": [],
   "source": [
    "class Manager(Employee):\n",
    "    def __init__(self,emp_id,name,salary,department,contact,gender,num_of_subordinates):\n",
    "        Employee.__init__(self,emp_id,name,salary,department,\"Manager\",contact,gender)\n",
    "        self.num_of_subordinates = num_of_subordinates\n",
    "        \n",
    "    def display_emp_details(self):\n",
    "        Employee.display_emp_details(self)\n",
    "        print(\"SUBORDINATES\",self.num_of_subordinates)"
   ]
  },
  {
   "cell_type": "code",
   "execution_count": 63,
   "id": "bea7e719",
   "metadata": {},
   "outputs": [],
   "source": [
    "bharat = Manager(1,\"Bharat\",\"20LPA\",\"Product\",\"34525235\",\"M\",10)"
   ]
  },
  {
   "cell_type": "code",
   "execution_count": 64,
   "id": "27805012",
   "metadata": {},
   "outputs": [
    {
     "name": "stdout",
     "output_type": "stream",
     "text": [
      "EMP_ID:1\n",
      "NAME:Bharat\n",
      "SALARY:20LPA\n",
      "DEPARTMENT:Product\n",
      "DESIGNATION:Manager\n",
      "CONTACT:34525235\n",
      "GENDER:M\n",
      "SUBORDINATES 10\n"
     ]
    }
   ],
   "source": [
    "bharat.display_emp_details()"
   ]
  },
  {
   "cell_type": "code",
   "execution_count": null,
   "id": "4981f05d",
   "metadata": {},
   "outputs": [],
   "source": []
  },
  {
   "cell_type": "code",
   "execution_count": 20,
   "id": "a01ba094",
   "metadata": {},
   "outputs": [],
   "source": [
    "shubham = Employee(1,\"Shubham\",\"12LPA\",\"Product\",\"SDE1\",\"2348458234\",\"M\")"
   ]
  },
  {
   "cell_type": "code",
   "execution_count": 26,
   "id": "87ea9197",
   "metadata": {},
   "outputs": [
    {
     "name": "stdout",
     "output_type": "stream",
     "text": [
      "EMP_ID:1\n",
      "NAME:Shubham\n",
      "SALARY:12LPA\n",
      "DEPARTMENT:Product\n",
      "DESIGNATION:SDE1\n",
      "CONTACT:2348458234\n",
      "GENDER:M\n",
      "\n"
     ]
    }
   ],
   "source": [
    "shubham.display_emp_details()"
   ]
  },
  {
   "cell_type": "code",
   "execution_count": null,
   "id": "b8069819",
   "metadata": {},
   "outputs": [],
   "source": []
  },
  {
   "cell_type": "code",
   "execution_count": 27,
   "id": "08b9685d",
   "metadata": {},
   "outputs": [
    {
     "name": "stdout",
     "output_type": "stream",
     "text": [
      "EMP_ID:1\n",
      "NAME:Shubham\n",
      "SALARY:12LPA\n",
      "DEPARTMENT:Product\n",
      "DESIGNATION:SDE1\n",
      "CONTACT:2348458234\n",
      "GENDER:M\n",
      "\n"
     ]
    }
   ],
   "source": [
    "Employee.display_emp_details(shubham)"
   ]
  },
  {
   "cell_type": "code",
   "execution_count": null,
   "id": "7b5f25dc",
   "metadata": {},
   "outputs": [],
   "source": []
  },
  {
   "cell_type": "code",
   "execution_count": 21,
   "id": "d195489c",
   "metadata": {},
   "outputs": [
    {
     "data": {
      "text/plain": [
       "1"
      ]
     },
     "execution_count": 21,
     "metadata": {},
     "output_type": "execute_result"
    }
   ],
   "source": [
    "shubham.emp_count"
   ]
  },
  {
   "cell_type": "code",
   "execution_count": 22,
   "id": "57ffd96b",
   "metadata": {},
   "outputs": [],
   "source": [
    "namratha = Employee(2,\"Namrata\",\"12LPA\",\"Product\",\"SDE1\",\"214152535345\",\"F\")"
   ]
  },
  {
   "cell_type": "code",
   "execution_count": 23,
   "id": "66c68ced",
   "metadata": {},
   "outputs": [
    {
     "data": {
      "text/plain": [
       "2"
      ]
     },
     "execution_count": 23,
     "metadata": {},
     "output_type": "execute_result"
    }
   ],
   "source": [
    "namratha.emp_count"
   ]
  },
  {
   "cell_type": "code",
   "execution_count": 24,
   "id": "2d1287f8",
   "metadata": {},
   "outputs": [
    {
     "data": {
      "text/plain": [
       "2"
      ]
     },
     "execution_count": 24,
     "metadata": {},
     "output_type": "execute_result"
    }
   ],
   "source": [
    "shubham.emp_count"
   ]
  },
  {
   "cell_type": "code",
   "execution_count": 7,
   "id": "dbc22ff3",
   "metadata": {},
   "outputs": [
    {
     "name": "stdout",
     "output_type": "stream",
     "text": [
      "EMP_ID:1\n",
      "NAME:Shubham\n",
      "SALARY:12LPA\n",
      "DEPARTMENT:Product\n",
      "DESIGNATION:SDE1\n",
      "CONTACT:2348458234\n",
      "GENDER:M\n",
      "\n"
     ]
    }
   ],
   "source": [
    "shubham.display_emp_details()"
   ]
  },
  {
   "cell_type": "code",
   "execution_count": 8,
   "id": "80c570fd",
   "metadata": {},
   "outputs": [
    {
     "name": "stdout",
     "output_type": "stream",
     "text": [
      "EMP_ID:2\n",
      "NAME:Namrata\n",
      "SALARY:12LPA\n",
      "DEPARTMENT:Product\n",
      "DESIGNATION:SDE1\n",
      "CONTACT:214152535345\n",
      "GENDER:F\n",
      "\n"
     ]
    }
   ],
   "source": [
    "namratha.display_emp_details()"
   ]
  },
  {
   "cell_type": "markdown",
   "id": "2f8944fa",
   "metadata": {},
   "source": [
    "Create a class Student of Edyoda institute.where every object stores details of that student .\n",
    "Also have a display_student_details method to get details of student.\n",
    "Have a class variable institute_name as \"Edyoda\"\n",
    "Create student id on the basis of the number of objects/students that have been created so far\n",
    "\n",
    "shubham: student_id = 1\n",
    "rahul: student_id = 2\n",
    "namratha = student_id = 3\n"
   ]
  },
  {
   "cell_type": "code",
   "execution_count": 38,
   "id": "d9f68dfa",
   "metadata": {},
   "outputs": [],
   "source": [
    "class Student:\n",
    "    institute_name = \"Edyoda\"\n",
    "    student_count = 1\n",
    "    def __init__(self,name,age,degree):\n",
    "        self.student_id = Student.student_count\n",
    "        Student.student_count+=1\n",
    "        self.name = name\n",
    "        self.age = age\n",
    "        self.degree = degree\n",
    "        self.institute = Student.institute_name\n",
    "        \n",
    "    def display_student_details(self):\n",
    "        print(\"student_id : {}\\nname : {}\\nage : {}\\ndegree : {}\\ninstitue : {}\".format(self.student_id,self.name,self.age,self.degree,self.institute))"
   ]
  },
  {
   "cell_type": "code",
   "execution_count": 39,
   "id": "216e8321",
   "metadata": {},
   "outputs": [],
   "source": [
    "shubham = Student(\"Shubham\",22,\"BTech\")\n"
   ]
  },
  {
   "cell_type": "code",
   "execution_count": 40,
   "id": "4e6fe5fe",
   "metadata": {},
   "outputs": [
    {
     "name": "stdout",
     "output_type": "stream",
     "text": [
      "student_id : 1\n",
      "name : Shubham\n",
      "age : 22\n",
      "degree : BTech\n",
      "institue : Edyoda\n"
     ]
    }
   ],
   "source": [
    "shubham.display_student_details()"
   ]
  },
  {
   "cell_type": "code",
   "execution_count": 41,
   "id": "a99cdb6b",
   "metadata": {},
   "outputs": [],
   "source": [
    "sathwik = Student(\"Sathwik\",22,\"Bachelors\")"
   ]
  },
  {
   "cell_type": "code",
   "execution_count": 42,
   "id": "a9795c54",
   "metadata": {},
   "outputs": [
    {
     "name": "stdout",
     "output_type": "stream",
     "text": [
      "student_id : 2\n",
      "name : Sathwik\n",
      "age : 22\n",
      "degree : Bachelors\n",
      "institue : Edyoda\n"
     ]
    }
   ],
   "source": [
    "sathwik.display_student_details()"
   ]
  },
  {
   "cell_type": "code",
   "execution_count": 43,
   "id": "320012d9",
   "metadata": {},
   "outputs": [],
   "source": [
    "rahul = Student(\"Rahul\",26,\"Btech\")"
   ]
  },
  {
   "cell_type": "code",
   "execution_count": 44,
   "id": "cbf2ccb7",
   "metadata": {},
   "outputs": [
    {
     "name": "stdout",
     "output_type": "stream",
     "text": [
      "student_id : 3\n",
      "name : Rahul\n",
      "age : 26\n",
      "degree : Btech\n",
      "institue : Edyoda\n"
     ]
    }
   ],
   "source": [
    "rahul.display_student_details()"
   ]
  },
  {
   "cell_type": "code",
   "execution_count": null,
   "id": "b5f3375d",
   "metadata": {},
   "outputs": [],
   "source": []
  }
 ],
 "metadata": {
  "kernelspec": {
   "display_name": "Python 3 (ipykernel)",
   "language": "python",
   "name": "python3"
  },
  "language_info": {
   "codemirror_mode": {
    "name": "ipython",
    "version": 3
   },
   "file_extension": ".py",
   "mimetype": "text/x-python",
   "name": "python",
   "nbconvert_exporter": "python",
   "pygments_lexer": "ipython3",
   "version": "3.10.7"
  }
 },
 "nbformat": 4,
 "nbformat_minor": 5
}
