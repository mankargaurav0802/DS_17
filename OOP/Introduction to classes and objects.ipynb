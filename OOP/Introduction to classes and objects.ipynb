{
 "cells": [
  {
   "cell_type": "code",
   "execution_count": 42,
   "id": "52d737a2",
   "metadata": {},
   "outputs": [],
   "source": [
    "## Creating class of Pubg player\n",
    "class PubgPlayer:\n",
    "    def __init__(slf,given_name,given_health,given_num_of_weapons,given_armor_type):\n",
    "        slf.name = given_name\n",
    "        slf.health = given_health\n",
    "        slf.num_of_weapons = given_num_of_weapons\n",
    "        slf.armor_type = given_armor_type\n",
    "    \n",
    "    def display_PubgPlayer(slf):\n",
    "        print(\"name = {} health = {} weapons = {} armor = {}\".format(slf.name,slf.health,slf.num_of_weapons,slf.armor_type))\n",
    "        "
   ]
  },
  {
   "cell_type": "code",
   "execution_count": 44,
   "id": "43073d91",
   "metadata": {},
   "outputs": [],
   "source": [
    "shubham = PubgPlayer()"
   ]
  },
  {
   "cell_type": "code",
   "execution_count": 34,
   "id": "6ab4d838",
   "metadata": {},
   "outputs": [],
   "source": [
    "prithvi= PubgPlayer(\"Prithvi\",90,3,\"HeavilyArmored\")"
   ]
  },
  {
   "cell_type": "code",
   "execution_count": 35,
   "id": "0c4467d1",
   "metadata": {},
   "outputs": [
    {
     "name": "stdout",
     "output_type": "stream",
     "text": [
      "name = Prithvi health = 90 weapons = 3 armor = HeavilyArmored\n"
     ]
    }
   ],
   "source": [
    "prithvi.display_PubgPlayer()"
   ]
  },
  {
   "cell_type": "code",
   "execution_count": 37,
   "id": "112e0604",
   "metadata": {},
   "outputs": [
    {
     "name": "stdout",
     "output_type": "stream",
     "text": [
      "name = Shubham health = 80 weapons = 5 armor = LightlyArmored\n"
     ]
    }
   ],
   "source": [
    "shubham.display_PubgPlayer()"
   ]
  },
  {
   "cell_type": "code",
   "execution_count": 39,
   "id": "c895c763",
   "metadata": {},
   "outputs": [
    {
     "data": {
      "text/plain": [
       "'Shubham'"
      ]
     },
     "execution_count": 39,
     "metadata": {},
     "output_type": "execute_result"
    }
   ],
   "source": [
    "shubham.name\n"
   ]
  },
  {
   "cell_type": "code",
   "execution_count": 41,
   "id": "ac609d0b",
   "metadata": {},
   "outputs": [
    {
     "data": {
      "text/plain": [
       "80"
      ]
     },
     "execution_count": 41,
     "metadata": {},
     "output_type": "execute_result"
    }
   ],
   "source": [
    "shubham.health"
   ]
  },
  {
   "cell_type": "code",
   "execution_count": null,
   "id": "c917ccd8",
   "metadata": {},
   "outputs": [],
   "source": []
  },
  {
   "cell_type": "code",
   "execution_count": null,
   "id": "9dffeb0f",
   "metadata": {},
   "outputs": [],
   "source": []
  }
 ],
 "metadata": {
  "kernelspec": {
   "display_name": "Python 3 (ipykernel)",
   "language": "python",
   "name": "python3"
  },
  "language_info": {
   "codemirror_mode": {
    "name": "ipython",
    "version": 3
   },
   "file_extension": ".py",
   "mimetype": "text/x-python",
   "name": "python",
   "nbconvert_exporter": "python",
   "pygments_lexer": "ipython3",
   "version": "3.10.7"
  }
 },
 "nbformat": 4,
 "nbformat_minor": 5
}
