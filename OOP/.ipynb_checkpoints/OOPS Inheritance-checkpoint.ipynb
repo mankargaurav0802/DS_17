{
 "cells": [
  {
   "cell_type": "code",
   "execution_count": 1,
   "id": "82caee98",
   "metadata": {},
   "outputs": [],
   "source": [
    "class Employee:\n",
    "    \n",
    "    def __init__(self,emp_id,name,salary,department,designation,contact,gender):\n",
    "        self.emp_id = emp_id\n",
    "        self.name = name\n",
    "        self.salary = salary\n",
    "        self.department = department\n",
    "        self.designation =  designation\n",
    "        self.contact = contact\n",
    "        self.gender = gender\n",
    "        \n",
    "    \n",
    "    def display_emp_details(self):\n",
    "        print(\"EMP_ID:{}\\nNAME:{}\\nSALARY:{}\\nDEPARTMENT:{}\\nDESIGNATION:{}\\nCONTACT:{}\\nGENDER:{}\\n\".format(self.emp_id,self.name,self.salary,self.department,self.designation,self.contact,self.gender))\n",
    "        \n",
    "        \n",
    "        \n",
    "        "
   ]
  },
  {
   "cell_type": "code",
   "execution_count": 5,
   "id": "da3b1cd6",
   "metadata": {},
   "outputs": [],
   "source": [
    "shubham = Employee(1,\"Shubham\",\"12LPA\",\"Product\",\"SDE1\",\"2348458234\",\"M\")"
   ]
  },
  {
   "cell_type": "code",
   "execution_count": 6,
   "id": "918398ed",
   "metadata": {},
   "outputs": [],
   "source": [
    "namratha = Employee(2,\"Namrata\",\"12LPA\",\"Product\",\"SDE1\",\"214152535345\",\"F\")"
   ]
  },
  {
   "cell_type": "code",
   "execution_count": null,
   "id": "3f994f20",
   "metadata": {},
   "outputs": [],
   "source": []
  }
 ],
 "metadata": {
  "kernelspec": {
   "display_name": "Python 3 (ipykernel)",
   "language": "python",
   "name": "python3"
  },
  "language_info": {
   "codemirror_mode": {
    "name": "ipython",
    "version": 3
   },
   "file_extension": ".py",
   "mimetype": "text/x-python",
   "name": "python",
   "nbconvert_exporter": "python",
   "pygments_lexer": "ipython3",
   "version": "3.10.7"
  }
 },
 "nbformat": 4,
 "nbformat_minor": 5
}
