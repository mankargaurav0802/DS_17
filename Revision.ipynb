{
 "cells": [
  {
   "cell_type": "code",
   "execution_count": 1,
   "id": "efb872d8",
   "metadata": {},
   "outputs": [
    {
     "data": {
      "text/plain": [
       "65"
      ]
     },
     "execution_count": 1,
     "metadata": {},
     "output_type": "execute_result"
    }
   ],
   "source": [
    "ord(\"A\")"
   ]
  },
  {
   "cell_type": "code",
   "execution_count": 2,
   "id": "39a170ba",
   "metadata": {},
   "outputs": [
    {
     "data": {
      "text/plain": [
       "97"
      ]
     },
     "execution_count": 2,
     "metadata": {},
     "output_type": "execute_result"
    }
   ],
   "source": [
    "ord(\"a\")"
   ]
  },
  {
   "cell_type": "code",
   "execution_count": 3,
   "id": "183aab2e",
   "metadata": {},
   "outputs": [
    {
     "data": {
      "text/plain": [
       "'b'"
      ]
     },
     "execution_count": 3,
     "metadata": {},
     "output_type": "execute_result"
    }
   ],
   "source": [
    "chr(98)"
   ]
  },
  {
   "cell_type": "code",
   "execution_count": 4,
   "id": "82d2c02f",
   "metadata": {},
   "outputs": [
    {
     "data": {
      "text/plain": [
       "98"
      ]
     },
     "execution_count": 4,
     "metadata": {},
     "output_type": "execute_result"
    }
   ],
   "source": [
    "ord(\"b\")"
   ]
  },
  {
   "cell_type": "code",
   "execution_count": 8,
   "id": "f044987e",
   "metadata": {},
   "outputs": [
    {
     "data": {
      "text/plain": [
       "'b'"
      ]
     },
     "execution_count": 8,
     "metadata": {},
     "output_type": "execute_result"
    }
   ],
   "source": [
    "chr(98)"
   ]
  },
  {
   "cell_type": "code",
   "execution_count": 9,
   "id": "6fd78fa8",
   "metadata": {},
   "outputs": [
    {
     "data": {
      "text/plain": [
       "'E'"
      ]
     },
     "execution_count": 9,
     "metadata": {},
     "output_type": "execute_result"
    }
   ],
   "source": [
    "chr(69)"
   ]
  },
  {
   "cell_type": "code",
   "execution_count": 10,
   "id": "9bc9e66d",
   "metadata": {},
   "outputs": [
    {
     "data": {
      "text/plain": [
       "'a'"
      ]
     },
     "execution_count": 10,
     "metadata": {},
     "output_type": "execute_result"
    }
   ],
   "source": [
    "\"A\".lower()"
   ]
  },
  {
   "cell_type": "code",
   "execution_count": 11,
   "id": "9018e153",
   "metadata": {},
   "outputs": [],
   "source": [
    "a = [1,2,3,4,5,6]"
   ]
  },
  {
   "cell_type": "code",
   "execution_count": 12,
   "id": "8bfa02a3",
   "metadata": {},
   "outputs": [],
   "source": [
    "a.append(\"Shekhar\")"
   ]
  },
  {
   "cell_type": "code",
   "execution_count": 13,
   "id": "62ce93db",
   "metadata": {},
   "outputs": [
    {
     "data": {
      "text/plain": [
       "[1, 2, 3, 4, 5, 6, 'Shekhar']"
      ]
     },
     "execution_count": 13,
     "metadata": {},
     "output_type": "execute_result"
    }
   ],
   "source": [
    "a"
   ]
  },
  {
   "cell_type": "code",
   "execution_count": 14,
   "id": "b8b6a926",
   "metadata": {},
   "outputs": [],
   "source": [
    "a.extend([\"Prithvi\",\"Shekhar\",\"Jafar\"])"
   ]
  },
  {
   "cell_type": "code",
   "execution_count": 15,
   "id": "27b08681",
   "metadata": {},
   "outputs": [
    {
     "data": {
      "text/plain": [
       "[1, 2, 3, 4, 5, 6, 'Shekhar', 'Prithvi', 'Shekhar', 'Jafar']"
      ]
     },
     "execution_count": 15,
     "metadata": {},
     "output_type": "execute_result"
    }
   ],
   "source": [
    "a"
   ]
  },
  {
   "cell_type": "code",
   "execution_count": 16,
   "id": "8d25ebdd",
   "metadata": {},
   "outputs": [],
   "source": [
    "a.append([70,90,88])"
   ]
  },
  {
   "cell_type": "code",
   "execution_count": 17,
   "id": "2cb1e4e8",
   "metadata": {},
   "outputs": [
    {
     "data": {
      "text/plain": [
       "[1, 2, 3, 4, 5, 6, 'Shekhar', 'Prithvi', 'Shekhar', 'Jafar', [70, 90, 88]]"
      ]
     },
     "execution_count": 17,
     "metadata": {},
     "output_type": "execute_result"
    }
   ],
   "source": [
    "a"
   ]
  },
  {
   "cell_type": "code",
   "execution_count": 18,
   "id": "bc831e1e",
   "metadata": {},
   "outputs": [],
   "source": [
    "a.extend([70,90,88])"
   ]
  },
  {
   "cell_type": "code",
   "execution_count": 20,
   "id": "6472ecd0",
   "metadata": {},
   "outputs": [
    {
     "name": "stdout",
     "output_type": "stream",
     "text": [
      "[1, 2, 3, 4, 5, 6, 'Shekhar', 'Prithvi', 'Shekhar', 'Jafar', [70, 90, 88], 70, 90, 88]\n"
     ]
    }
   ],
   "source": [
    "print(a)"
   ]
  },
  {
   "cell_type": "code",
   "execution_count": 21,
   "id": "5d2ec46b",
   "metadata": {},
   "outputs": [
    {
     "name": "stdout",
     "output_type": "stream",
     "text": [
      "Help on method_descriptor:\n",
      "\n",
      "insert(self, index, object, /)\n",
      "    Insert object before index.\n",
      "\n"
     ]
    }
   ],
   "source": [
    "help(list.insert)"
   ]
  },
  {
   "cell_type": "code",
   "execution_count": 22,
   "id": "9274a8e0",
   "metadata": {},
   "outputs": [],
   "source": [
    "a.insert(1,\"Priyanka\")"
   ]
  },
  {
   "cell_type": "code",
   "execution_count": 24,
   "id": "bf2815f8",
   "metadata": {},
   "outputs": [
    {
     "name": "stdout",
     "output_type": "stream",
     "text": [
      "[1, 'Priyanka', 2, 3, 4, 5, 6, 'Shekhar', 'Prithvi', 'Shekhar', 'Jafar', [70, 90, 88], 70, 90, 88]\n"
     ]
    }
   ],
   "source": [
    "print(a)"
   ]
  },
  {
   "cell_type": "code",
   "execution_count": 28,
   "id": "0c2c59ce",
   "metadata": {},
   "outputs": [
    {
     "name": "stdout",
     "output_type": "stream",
     "text": [
      "Enter total no. of units spent by user 350\n",
      "1600\n"
     ]
    }
   ],
   "source": [
    "unit=int(input(\"Enter total no. of units spent by user \"))\n",
    "Total=0\n",
    "if unit<=100:\n",
    "    Total=0\n",
    "if unit>100 and unit<200:\n",
    "    Total=(unit-100)*5\n",
    "if unit>200:\n",
    "    Total=((unit-200)*10)+((unit-((unit-200)-100)*5))\n",
    "print(Total)"
   ]
  },
  {
   "cell_type": "code",
   "execution_count": 29,
   "id": "d58a4246",
   "metadata": {},
   "outputs": [
    {
     "data": {
      "text/plain": [
       "'((350-200)*10)+((350-((350-200)-100)*5))'"
      ]
     },
     "execution_count": 29,
     "metadata": {},
     "output_type": "execute_result"
    }
   ],
   "source": [
    "\"(({0}-200)*10)+(({1}-(({2}-200)-100)*5))\".format(unit,unit,unit)"
   ]
  },
  {
   "cell_type": "code",
   "execution_count": 30,
   "id": "275f4eaf",
   "metadata": {},
   "outputs": [
    {
     "data": {
      "text/plain": [
       "1600"
      ]
     },
     "execution_count": 30,
     "metadata": {},
     "output_type": "execute_result"
    }
   ],
   "source": [
    "((350-200)*10)+((350-((350-200)-100)*5))"
   ]
  },
  {
   "cell_type": "code",
   "execution_count": 38,
   "id": "4fa6ca0c",
   "metadata": {},
   "outputs": [],
   "source": [
    "unit = 200\n",
    "total = 0\n",
    "if(unit<=100):\n",
    "    total = 0\n",
    "elif(unit<=200):\n",
    "    total = 100*0+(unit-100)*5\n",
    "else:\n",
    "    total = 100*0+100*5+(unit-200)*10\n"
   ]
  },
  {
   "cell_type": "code",
   "execution_count": 39,
   "id": "8878ae8c",
   "metadata": {},
   "outputs": [
    {
     "data": {
      "text/plain": [
       "2000"
      ]
     },
     "execution_count": 39,
     "metadata": {},
     "output_type": "execute_result"
    }
   ],
   "source": [
    "total"
   ]
  },
  {
   "cell_type": "code",
   "execution_count": 33,
   "id": "68a68ea5",
   "metadata": {},
   "outputs": [
    {
     "data": {
      "text/plain": [
       "2000"
      ]
     },
     "execution_count": 33,
     "metadata": {},
     "output_type": "execute_result"
    }
   ],
   "source": [
    "100*0+100*5+150*10"
   ]
  },
  {
   "cell_type": "code",
   "execution_count": 40,
   "id": "e7eaa158",
   "metadata": {},
   "outputs": [],
   "source": [
    "a = [3,1,6,3,8,97,322,45]"
   ]
  },
  {
   "cell_type": "code",
   "execution_count": 41,
   "id": "1f5a0e1d",
   "metadata": {},
   "outputs": [],
   "source": [
    "a.sort()"
   ]
  },
  {
   "cell_type": "code",
   "execution_count": 42,
   "id": "9d93e1c6",
   "metadata": {},
   "outputs": [
    {
     "data": {
      "text/plain": [
       "[1, 3, 3, 6, 8, 45, 97, 322]"
      ]
     },
     "execution_count": 42,
     "metadata": {},
     "output_type": "execute_result"
    }
   ],
   "source": [
    "a"
   ]
  },
  {
   "cell_type": "code",
   "execution_count": 43,
   "id": "5baed6ae",
   "metadata": {},
   "outputs": [],
   "source": [
    "a = [3,1,6,3,8,97,322,45]"
   ]
  },
  {
   "cell_type": "code",
   "execution_count": 44,
   "id": "55103d87",
   "metadata": {},
   "outputs": [
    {
     "data": {
      "text/plain": [
       "[1, 3, 3, 6, 8, 45, 97, 322]"
      ]
     },
     "execution_count": 44,
     "metadata": {},
     "output_type": "execute_result"
    }
   ],
   "source": [
    "sorted(a)"
   ]
  },
  {
   "cell_type": "code",
   "execution_count": 45,
   "id": "ab7aa0b9",
   "metadata": {},
   "outputs": [
    {
     "data": {
      "text/plain": [
       "[3, 1, 6, 3, 8, 97, 322, 45]"
      ]
     },
     "execution_count": 45,
     "metadata": {},
     "output_type": "execute_result"
    }
   ],
   "source": [
    "a"
   ]
  },
  {
   "cell_type": "code",
   "execution_count": 60,
   "id": "79449b71",
   "metadata": {},
   "outputs": [],
   "source": [
    "list1 = [(\"Prithvi\",\"A\"),(\"Priyanka\",80),(\"Darshan\",99)]"
   ]
  },
  {
   "cell_type": "code",
   "execution_count": 61,
   "id": "8d103469",
   "metadata": {},
   "outputs": [
    {
     "data": {
      "text/plain": [
       "[('Prithvi', 'A'), ('Priyanka', 80), ('Darshan', 99)]"
      ]
     },
     "execution_count": 61,
     "metadata": {},
     "output_type": "execute_result"
    }
   ],
   "source": [
    "list1"
   ]
  },
  {
   "cell_type": "code",
   "execution_count": 62,
   "id": "1103fa2b",
   "metadata": {},
   "outputs": [
    {
     "data": {
      "text/plain": [
       "[('Darshan', 99), ('Prithvi', 'A'), ('Priyanka', 80)]"
      ]
     },
     "execution_count": 62,
     "metadata": {},
     "output_type": "execute_result"
    }
   ],
   "source": [
    "sorted(list1)"
   ]
  },
  {
   "cell_type": "code",
   "execution_count": 63,
   "id": "1f0b0603",
   "metadata": {},
   "outputs": [
    {
     "ename": "TypeError",
     "evalue": "'<' not supported between instances of 'int' and 'str'",
     "output_type": "error",
     "traceback": [
      "\u001b[1;31m---------------------------------------------------------------------------\u001b[0m",
      "\u001b[1;31mTypeError\u001b[0m                                 Traceback (most recent call last)",
      "Input \u001b[1;32mIn [63]\u001b[0m, in \u001b[0;36m<cell line: 1>\u001b[1;34m()\u001b[0m\n\u001b[1;32m----> 1\u001b[0m \u001b[38;5;28;43msorted\u001b[39;49m\u001b[43m(\u001b[49m\u001b[43mlist1\u001b[49m\u001b[43m,\u001b[49m\u001b[43mkey\u001b[49m\u001b[38;5;241;43m=\u001b[39;49m\u001b[38;5;28;43;01mlambda\u001b[39;49;00m\u001b[43m \u001b[49m\u001b[43melement\u001b[49m\u001b[43m:\u001b[49m\u001b[43melement\u001b[49m\u001b[43m[\u001b[49m\u001b[38;5;241;43m1\u001b[39;49m\u001b[43m]\u001b[49m\u001b[43m)\u001b[49m\n",
      "\u001b[1;31mTypeError\u001b[0m: '<' not supported between instances of 'int' and 'str'"
     ]
    }
   ],
   "source": [
    "sorted(list1,key=lambda element:element[1])"
   ]
  },
  {
   "cell_type": "code",
   "execution_count": 58,
   "id": "7b5eb6f4",
   "metadata": {},
   "outputs": [],
   "source": [
    "a = [3,1,6,3,8,97,322,45]"
   ]
  },
  {
   "cell_type": "code",
   "execution_count": 56,
   "id": "3892f033",
   "metadata": {},
   "outputs": [],
   "source": [
    "a.sort(reverse=True)"
   ]
  },
  {
   "cell_type": "code",
   "execution_count": 57,
   "id": "f531f994",
   "metadata": {},
   "outputs": [
    {
     "data": {
      "text/plain": [
       "[322, 97, 45, 8, 6, 3, 3, 1]"
      ]
     },
     "execution_count": 57,
     "metadata": {},
     "output_type": "execute_result"
    }
   ],
   "source": [
    "a"
   ]
  },
  {
   "cell_type": "code",
   "execution_count": 59,
   "id": "3f915e2c",
   "metadata": {},
   "outputs": [
    {
     "data": {
      "text/plain": [
       "[322, 97, 45, 8, 6, 3, 3, 1]"
      ]
     },
     "execution_count": 59,
     "metadata": {},
     "output_type": "execute_result"
    }
   ],
   "source": [
    "sorted(a,reverse=True)"
   ]
  },
  {
   "cell_type": "code",
   "execution_count": 64,
   "id": "a1d58a42",
   "metadata": {},
   "outputs": [
    {
     "data": {
      "text/plain": [
       "True"
      ]
     },
     "execution_count": 64,
     "metadata": {},
     "output_type": "execute_result"
    }
   ],
   "source": [
    "ord(\"A\")>10"
   ]
  },
  {
   "cell_type": "code",
   "execution_count": 66,
   "id": "2fbfb035",
   "metadata": {},
   "outputs": [
    {
     "data": {
      "text/plain": [
       "True"
      ]
     },
     "execution_count": 66,
     "metadata": {},
     "output_type": "execute_result"
    }
   ],
   "source": [
    "ord(\"A\")>10"
   ]
  },
  {
   "cell_type": "code",
   "execution_count": 70,
   "id": "f52f8d65",
   "metadata": {},
   "outputs": [
    {
     "name": "stdout",
     "output_type": "stream",
     "text": [
      "We are learning-We Are Learning\n"
     ]
    }
   ],
   "source": [
    "string=\"we Are Learning\"\n",
    "a=string.capitalize()\n",
    "b=string.title()\n",
    "print(a, b, sep=\"-\")"
   ]
  },
  {
   "cell_type": "code",
   "execution_count": null,
   "id": "e5aa2740",
   "metadata": {},
   "outputs": [],
   "source": []
  }
 ],
 "metadata": {
  "kernelspec": {
   "display_name": "Python 3",
   "language": "python",
   "name": "python3"
  },
  "language_info": {
   "codemirror_mode": {
    "name": "ipython",
    "version": 3
   },
   "file_extension": ".py",
   "mimetype": "text/x-python",
   "name": "python",
   "nbconvert_exporter": "python",
   "pygments_lexer": "ipython3",
   "version": "3.11.1 (tags/v3.11.1:a7a450f, Dec  6 2022, 19:58:39) [MSC v.1934 64 bit (AMD64)]"
  },
  "vscode": {
   "interpreter": {
    "hash": "a5f954a518b072afc267ebd6eb29b2da47959f1e543e90f8fa4fe0e403b8accf"
   }
  }
 },
 "nbformat": 4,
 "nbformat_minor": 5
}
