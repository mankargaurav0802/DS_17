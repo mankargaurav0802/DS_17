{
 "cells": [
  {
   "cell_type": "code",
   "execution_count": 3,
   "id": "75fbfc33",
   "metadata": {},
   "outputs": [],
   "source": [
    "students = [\"Prithvi\",\"Priyanka\",\"Darshan\",\"Raj\"]"
   ]
  },
  {
   "cell_type": "code",
   "execution_count": 4,
   "id": "1d58d671",
   "metadata": {},
   "outputs": [
    {
     "data": {
      "text/plain": [
       "['Priyanka', 'Darshan']"
      ]
     },
     "execution_count": 4,
     "metadata": {},
     "output_type": "execute_result"
    }
   ],
   "source": [
    "students[-3:-1]"
   ]
  },
  {
   "cell_type": "code",
   "execution_count": 10,
   "id": "d5a02aaa",
   "metadata": {},
   "outputs": [
    {
     "data": {
      "text/plain": [
       "[]"
      ]
     },
     "execution_count": 10,
     "metadata": {},
     "output_type": "execute_result"
    }
   ],
   "source": [
    "students[-1:-3]"
   ]
  },
  {
   "cell_type": "code",
   "execution_count": 6,
   "id": "115ebd06",
   "metadata": {},
   "outputs": [
    {
     "data": {
      "text/plain": [
       "['Priyanka', 'Darshan']"
      ]
     },
     "execution_count": 6,
     "metadata": {},
     "output_type": "execute_result"
    }
   ],
   "source": [
    "students[1:3]"
   ]
  },
  {
   "cell_type": "code",
   "execution_count": 11,
   "id": "19f6de24",
   "metadata": {},
   "outputs": [
    {
     "data": {
      "text/plain": [
       "4"
      ]
     },
     "execution_count": 11,
     "metadata": {},
     "output_type": "execute_result"
    }
   ],
   "source": [
    "len(students)"
   ]
  },
  {
   "cell_type": "code",
   "execution_count": 14,
   "id": "d7a3a4e4",
   "metadata": {},
   "outputs": [
    {
     "data": {
      "text/plain": [
       "'Raj'"
      ]
     },
     "execution_count": 14,
     "metadata": {},
     "output_type": "execute_result"
    }
   ],
   "source": [
    "students[3]"
   ]
  },
  {
   "cell_type": "code",
   "execution_count": 7,
   "id": "2a87c309",
   "metadata": {},
   "outputs": [
    {
     "data": {
      "text/plain": [
       "'Raj'"
      ]
     },
     "execution_count": 7,
     "metadata": {},
     "output_type": "execute_result"
    }
   ],
   "source": [
    "students[len(students)-1]"
   ]
  },
  {
   "cell_type": "code",
   "execution_count": 8,
   "id": "7b93ac8b",
   "metadata": {},
   "outputs": [
    {
     "data": {
      "text/plain": [
       "'Raj'"
      ]
     },
     "execution_count": 8,
     "metadata": {},
     "output_type": "execute_result"
    }
   ],
   "source": [
    "students[-1]"
   ]
  },
  {
   "cell_type": "code",
   "execution_count": 9,
   "id": "95249031",
   "metadata": {},
   "outputs": [
    {
     "data": {
      "text/plain": [
       "'Darshan'"
      ]
     },
     "execution_count": 9,
     "metadata": {},
     "output_type": "execute_result"
    }
   ],
   "source": [
    "students[len(students)-2]"
   ]
  },
  {
   "cell_type": "code",
   "execution_count": null,
   "id": "2e018cde",
   "metadata": {},
   "outputs": [
    {
     "data": {
      "text/plain": [
       "'Darshan'"
      ]
     },
     "execution_count": 5,
     "metadata": {},
     "output_type": "execute_result"
    }
   ],
   "source": [
    "students[-2]"
   ]
  },
  {
   "cell_type": "code",
   "execution_count": null,
   "id": "d2f48f80",
   "metadata": {},
   "outputs": [],
   "source": [
    "name = \"Prithvi Raj\""
   ]
  },
  {
   "cell_type": "code",
   "execution_count": null,
   "id": "bd68c65a",
   "metadata": {},
   "outputs": [
    {
     "data": {
      "text/plain": [
       "'j'"
      ]
     },
     "execution_count": 7,
     "metadata": {},
     "output_type": "execute_result"
    }
   ],
   "source": [
    "name[len(name)-1]"
   ]
  },
  {
   "cell_type": "code",
   "execution_count": null,
   "id": "11011484",
   "metadata": {},
   "outputs": [
    {
     "data": {
      "text/plain": [
       "'j'"
      ]
     },
     "execution_count": 8,
     "metadata": {},
     "output_type": "execute_result"
    }
   ],
   "source": [
    "name[-1]"
   ]
  },
  {
   "cell_type": "code",
   "execution_count": null,
   "id": "cdbf359e",
   "metadata": {},
   "outputs": [
    {
     "data": {
      "text/plain": [
       "'Raj'"
      ]
     },
     "execution_count": 15,
     "metadata": {},
     "output_type": "execute_result"
    }
   ],
   "source": [
    "name[8:11]"
   ]
  },
  {
   "cell_type": "code",
   "execution_count": null,
   "id": "dbe5be0a",
   "metadata": {},
   "outputs": [
    {
     "data": {
      "text/plain": [
       "'Prithvi'"
      ]
     },
     "execution_count": 17,
     "metadata": {},
     "output_type": "execute_result"
    }
   ],
   "source": [
    "name[0:7]"
   ]
  },
  {
   "cell_type": "code",
   "execution_count": null,
   "id": "7e8510fa",
   "metadata": {},
   "outputs": [
    {
     "data": {
      "text/plain": [
       "['Prithvi', 'Raj']"
      ]
     },
     "execution_count": 18,
     "metadata": {},
     "output_type": "execute_result"
    }
   ],
   "source": [
    "name.split()"
   ]
  },
  {
   "cell_type": "code",
   "execution_count": null,
   "id": "089e3167",
   "metadata": {},
   "outputs": [],
   "source": [
    "space_index = name.find(\" \")"
   ]
  },
  {
   "cell_type": "code",
   "execution_count": null,
   "id": "32c8037a",
   "metadata": {},
   "outputs": [
    {
     "data": {
      "text/plain": [
       "7"
      ]
     },
     "execution_count": 21,
     "metadata": {},
     "output_type": "execute_result"
    }
   ],
   "source": [
    "space_index"
   ]
  },
  {
   "cell_type": "code",
   "execution_count": null,
   "id": "99b092fa",
   "metadata": {},
   "outputs": [
    {
     "data": {
      "text/plain": [
       "'Prithvi'"
      ]
     },
     "execution_count": 22,
     "metadata": {},
     "output_type": "execute_result"
    }
   ],
   "source": [
    "name[0:space_index]"
   ]
  },
  {
   "cell_type": "code",
   "execution_count": null,
   "id": "2ced9ed7",
   "metadata": {},
   "outputs": [
    {
     "data": {
      "text/plain": [
       "'Raj'"
      ]
     },
     "execution_count": 28,
     "metadata": {},
     "output_type": "execute_result"
    }
   ],
   "source": [
    "name[space_index+1:11]"
   ]
  },
  {
   "cell_type": "code",
   "execution_count": null,
   "id": "6e157056",
   "metadata": {},
   "outputs": [
    {
     "data": {
      "text/plain": [
       "8"
      ]
     },
     "execution_count": 24,
     "metadata": {},
     "output_type": "execute_result"
    }
   ],
   "source": [
    "name.find(\"Raj\")"
   ]
  },
  {
   "cell_type": "code",
   "execution_count": null,
   "id": "df17c20f",
   "metadata": {},
   "outputs": [
    {
     "data": {
      "text/plain": [
       "'Prithvi'"
      ]
     },
     "execution_count": 25,
     "metadata": {},
     "output_type": "execute_result"
    }
   ],
   "source": [
    "name[:space_index]"
   ]
  },
  {
   "cell_type": "code",
   "execution_count": null,
   "id": "4bd72e4f",
   "metadata": {},
   "outputs": [
    {
     "data": {
      "text/plain": [
       "'Raj'"
      ]
     },
     "execution_count": 26,
     "metadata": {},
     "output_type": "execute_result"
    }
   ],
   "source": [
    "name[8:]"
   ]
  },
  {
   "cell_type": "code",
   "execution_count": null,
   "id": "48b3b8a4",
   "metadata": {},
   "outputs": [
    {
     "data": {
      "text/plain": [
       "'Prithvi Raj'"
      ]
     },
     "execution_count": 27,
     "metadata": {},
     "output_type": "execute_result"
    }
   ],
   "source": [
    "name[:]"
   ]
  },
  {
   "cell_type": "code",
   "execution_count": null,
   "id": "598f6fa1",
   "metadata": {},
   "outputs": [],
   "source": [
    "sample = (1,2,3)"
   ]
  },
  {
   "cell_type": "code",
   "execution_count": null,
   "id": "3167978e",
   "metadata": {},
   "outputs": [
    {
     "data": {
      "text/plain": [
       "1"
      ]
     },
     "execution_count": 30,
     "metadata": {},
     "output_type": "execute_result"
    }
   ],
   "source": [
    "sample[0]"
   ]
  },
  {
   "cell_type": "code",
   "execution_count": null,
   "id": "da826a9d",
   "metadata": {},
   "outputs": [],
   "source": [
    "sample = (1,2,3,[\"Rahul\",\"Prithvi\"])"
   ]
  },
  {
   "cell_type": "code",
   "execution_count": null,
   "id": "e9ec3f0f",
   "metadata": {},
   "outputs": [
    {
     "data": {
      "text/plain": [
       "1"
      ]
     },
     "execution_count": 33,
     "metadata": {},
     "output_type": "execute_result"
    }
   ],
   "source": [
    "sample[0]"
   ]
  },
  {
   "cell_type": "code",
   "execution_count": null,
   "id": "f2a71ab9",
   "metadata": {},
   "outputs": [
    {
     "ename": "TypeError",
     "evalue": "'tuple' object does not support item assignment",
     "output_type": "error",
     "traceback": [
      "\u001b[1;31m---------------------------------------------------------------------------\u001b[0m",
      "\u001b[1;31mTypeError\u001b[0m                                 Traceback (most recent call last)",
      "Input \u001b[1;32mIn [34]\u001b[0m, in \u001b[0;36m<cell line: 1>\u001b[1;34m()\u001b[0m\n\u001b[1;32m----> 1\u001b[0m \u001b[43msample\u001b[49m\u001b[43m[\u001b[49m\u001b[38;5;241;43m0\u001b[39;49m\u001b[43m]\u001b[49m\u001b[38;5;241m=\u001b[39m\u001b[38;5;241m78\u001b[39m\n",
      "\u001b[1;31mTypeError\u001b[0m: 'tuple' object does not support item assignment"
     ]
    }
   ],
   "source": [
    "sample[0]=78"
   ]
  },
  {
   "cell_type": "code",
   "execution_count": null,
   "id": "b7b39d64",
   "metadata": {},
   "outputs": [
    {
     "data": {
      "text/plain": [
       "['Rahul', 'Prithvi']"
      ]
     },
     "execution_count": 35,
     "metadata": {},
     "output_type": "execute_result"
    }
   ],
   "source": [
    "sample[3]"
   ]
  },
  {
   "cell_type": "code",
   "execution_count": null,
   "id": "04691696",
   "metadata": {},
   "outputs": [],
   "source": [
    "sample[-1][0]=\"Priyanka\""
   ]
  },
  {
   "cell_type": "code",
   "execution_count": null,
   "id": "47c171aa",
   "metadata": {},
   "outputs": [
    {
     "data": {
      "text/plain": [
       "(1, 2, 3, ['Priyanka', 'Prithvi'])"
      ]
     },
     "execution_count": 38,
     "metadata": {},
     "output_type": "execute_result"
    }
   ],
   "source": [
    "sample"
   ]
  },
  {
   "cell_type": "code",
   "execution_count": null,
   "id": "46fb7ac6",
   "metadata": {},
   "outputs": [
    {
     "data": {
      "text/plain": [
       "['Priyanka', 'Prithvi']"
      ]
     },
     "execution_count": 41,
     "metadata": {},
     "output_type": "execute_result"
    }
   ],
   "source": [
    "sample[-1]"
   ]
  },
  {
   "cell_type": "code",
   "execution_count": null,
   "id": "ce7d231c",
   "metadata": {},
   "outputs": [
    {
     "data": {
      "text/plain": [
       "(1, 2, 3, ['Priyanka', 'Prithvi'])"
      ]
     },
     "execution_count": 42,
     "metadata": {},
     "output_type": "execute_result"
    }
   ],
   "source": [
    "sample"
   ]
  },
  {
   "cell_type": "code",
   "execution_count": null,
   "id": "78eb7f93",
   "metadata": {},
   "outputs": [
    {
     "data": {
      "text/plain": [
       "['Priyanka', 'Prithvi']"
      ]
     },
     "execution_count": 43,
     "metadata": {},
     "output_type": "execute_result"
    }
   ],
   "source": [
    "sample[3]"
   ]
  },
  {
   "cell_type": "code",
   "execution_count": null,
   "id": "fe2b3506",
   "metadata": {},
   "outputs": [],
   "source": [
    "sample[3][0]=\"Rahul\""
   ]
  },
  {
   "cell_type": "code",
   "execution_count": null,
   "id": "03ae3902",
   "metadata": {},
   "outputs": [
    {
     "data": {
      "text/plain": [
       "'Prithvi'"
      ]
     },
     "execution_count": 45,
     "metadata": {},
     "output_type": "execute_result"
    }
   ],
   "source": [
    "sample[3][1]"
   ]
  },
  {
   "cell_type": "code",
   "execution_count": null,
   "id": "ad89e43b",
   "metadata": {},
   "outputs": [
    {
     "data": {
      "text/plain": [
       "(1, 2, 3, ['Rahul', 'Prithvi'])"
      ]
     },
     "execution_count": 47,
     "metadata": {},
     "output_type": "execute_result"
    }
   ],
   "source": [
    "sample"
   ]
  },
  {
   "cell_type": "code",
   "execution_count": null,
   "id": "6330da30",
   "metadata": {},
   "outputs": [
    {
     "name": "stdout",
     "output_type": "stream",
     "text": [
      "['Rahul', 'Prithvi']  index  3\n"
     ]
    }
   ],
   "source": [
    "found_list = False\n",
    "i=0\n",
    "for element in sample:\n",
    "    \n",
    "    if type(element)==list:\n",
    "        print(element,\" index \",i)\n",
    "    i+=1"
   ]
  },
  {
   "cell_type": "code",
   "execution_count": null,
   "id": "ffded44f",
   "metadata": {},
   "outputs": [
    {
     "data": {
      "text/plain": [
       "3"
      ]
     },
     "execution_count": 53,
     "metadata": {},
     "output_type": "execute_result"
    }
   ],
   "source": [
    "sample.index(['Rahul', 'Prithvi'])"
   ]
  },
  {
   "cell_type": "code",
   "execution_count": null,
   "id": "5c6ed0ff",
   "metadata": {},
   "outputs": [],
   "source": [
    "sample  =[1]"
   ]
  },
  {
   "cell_type": "code",
   "execution_count": null,
   "id": "68b833b2",
   "metadata": {},
   "outputs": [
    {
     "data": {
      "text/plain": [
       "[1]"
      ]
     },
     "execution_count": 55,
     "metadata": {},
     "output_type": "execute_result"
    }
   ],
   "source": [
    "sample"
   ]
  },
  {
   "cell_type": "code",
   "execution_count": null,
   "id": "01421bc8",
   "metadata": {},
   "outputs": [],
   "source": [
    "sample = (1)"
   ]
  },
  {
   "cell_type": "code",
   "execution_count": null,
   "id": "5e56aed7",
   "metadata": {},
   "outputs": [
    {
     "data": {
      "text/plain": [
       "int"
      ]
     },
     "execution_count": 57,
     "metadata": {},
     "output_type": "execute_result"
    }
   ],
   "source": [
    "type(sample)"
   ]
  },
  {
   "cell_type": "code",
   "execution_count": null,
   "id": "6a518682",
   "metadata": {},
   "outputs": [
    {
     "data": {
      "text/plain": [
       "1"
      ]
     },
     "execution_count": 58,
     "metadata": {},
     "output_type": "execute_result"
    }
   ],
   "source": [
    "sample"
   ]
  },
  {
   "cell_type": "code",
   "execution_count": null,
   "id": "6e089086",
   "metadata": {},
   "outputs": [],
   "source": [
    "sample = (1,)"
   ]
  },
  {
   "cell_type": "code",
   "execution_count": null,
   "id": "64e354ef",
   "metadata": {},
   "outputs": [
    {
     "data": {
      "text/plain": [
       "(1,)"
      ]
     },
     "execution_count": 60,
     "metadata": {},
     "output_type": "execute_result"
    }
   ],
   "source": [
    "sample"
   ]
  },
  {
   "cell_type": "code",
   "execution_count": null,
   "id": "a96ead1d",
   "metadata": {},
   "outputs": [
    {
     "data": {
      "text/plain": [
       "tuple"
      ]
     },
     "execution_count": 61,
     "metadata": {},
     "output_type": "execute_result"
    }
   ],
   "source": [
    "type(sample)"
   ]
  },
  {
   "cell_type": "code",
   "execution_count": null,
   "id": "79bf097c",
   "metadata": {},
   "outputs": [],
   "source": [
    "sample = (1,2,3,[\"Rahul\",\"Prithvi\"])"
   ]
  },
  {
   "cell_type": "code",
   "execution_count": null,
   "id": "f31b18f4",
   "metadata": {},
   "outputs": [
    {
     "data": {
      "text/plain": [
       "(1, 2, 3)"
      ]
     },
     "execution_count": 63,
     "metadata": {},
     "output_type": "execute_result"
    }
   ],
   "source": [
    "sample[0:3]"
   ]
  },
  {
   "cell_type": "code",
   "execution_count": null,
   "id": "702c42a0",
   "metadata": {},
   "outputs": [],
   "source": [
    "students = [\"Raj\",\"Raman\",\"Rahul\",\"Pritvi\",\"Darshan\",\"Priyanka\"]"
   ]
  },
  {
   "cell_type": "code",
   "execution_count": null,
   "id": "acfbfe82",
   "metadata": {},
   "outputs": [
    {
     "data": {
      "text/plain": [
       "['Raj', 'Raman', 'Rahul', 'Pritvi', 'Darshan', 'Priyanka']"
      ]
     },
     "execution_count": 65,
     "metadata": {},
     "output_type": "execute_result"
    }
   ],
   "source": [
    "students[:]"
   ]
  },
  {
   "cell_type": "code",
   "execution_count": null,
   "id": "004a8229",
   "metadata": {},
   "outputs": [
    {
     "data": {
      "text/plain": [
       "['Raj', 'Pritvi']"
      ]
     },
     "execution_count": 67,
     "metadata": {},
     "output_type": "execute_result"
    }
   ],
   "source": [
    "students[start:end:step_size]"
   ]
  },
  {
   "cell_type": "code",
   "execution_count": null,
   "id": "74deed3d",
   "metadata": {},
   "outputs": [
    {
     "data": {
      "text/plain": [
       "['Priyanka', 'Darshan', 'Pritvi', 'Rahul', 'Raman', 'Raj']"
      ]
     },
     "execution_count": 70,
     "metadata": {},
     "output_type": "execute_result"
    }
   ],
   "source": [
    "students[::-1]"
   ]
  },
  {
   "cell_type": "code",
   "execution_count": null,
   "id": "ac34d381",
   "metadata": {},
   "outputs": [
    {
     "data": {
      "text/plain": [
       "'Priyanka'"
      ]
     },
     "execution_count": 72,
     "metadata": {},
     "output_type": "execute_result"
    }
   ],
   "source": [
    "students.pop()"
   ]
  },
  {
   "cell_type": "code",
   "execution_count": null,
   "id": "3cc7f690",
   "metadata": {},
   "outputs": [
    {
     "data": {
      "text/plain": [
       "['Raj', 'Raman', 'Rahul', 'Pritvi', 'Darshan']"
      ]
     },
     "execution_count": 73,
     "metadata": {},
     "output_type": "execute_result"
    }
   ],
   "source": [
    "students"
   ]
  },
  {
   "cell_type": "code",
   "execution_count": null,
   "id": "a4c543c3",
   "metadata": {},
   "outputs": [
    {
     "name": "stdout",
     "output_type": "stream",
     "text": [
      "Help on method_descriptor:\n",
      "\n",
      "pop(self, index=-1, /)\n",
      "    Remove and return item at index (default last).\n",
      "    \n",
      "    Raises IndexError if list is empty or index is out of range.\n",
      "\n"
     ]
    }
   ],
   "source": [
    "help(list.pop)"
   ]
  },
  {
   "cell_type": "code",
   "execution_count": null,
   "id": "2f81337e",
   "metadata": {},
   "outputs": [
    {
     "data": {
      "text/plain": [
       "['Raj', 'Raman', 'Rahul', 'Pritvi', 'Darshan']"
      ]
     },
     "execution_count": 75,
     "metadata": {},
     "output_type": "execute_result"
    }
   ],
   "source": [
    "students"
   ]
  },
  {
   "cell_type": "code",
   "execution_count": null,
   "id": "878a9f7a",
   "metadata": {},
   "outputs": [
    {
     "data": {
      "text/plain": [
       "'Rahul'"
      ]
     },
     "execution_count": 76,
     "metadata": {},
     "output_type": "execute_result"
    }
   ],
   "source": [
    "students.pop(2)"
   ]
  },
  {
   "cell_type": "code",
   "execution_count": null,
   "id": "25869045",
   "metadata": {},
   "outputs": [
    {
     "data": {
      "text/plain": [
       "['Raj', 'Raman', 'Pritvi', 'Darshan']"
      ]
     },
     "execution_count": 77,
     "metadata": {},
     "output_type": "execute_result"
    }
   ],
   "source": [
    "students"
   ]
  },
  {
   "cell_type": "code",
   "execution_count": null,
   "id": "98ba4bd8",
   "metadata": {},
   "outputs": [],
   "source": [
    "del students"
   ]
  },
  {
   "cell_type": "code",
   "execution_count": null,
   "id": "ebced758",
   "metadata": {},
   "outputs": [
    {
     "ename": "NameError",
     "evalue": "name 'students' is not defined",
     "output_type": "error",
     "traceback": [
      "\u001b[1;31m---------------------------------------------------------------------------\u001b[0m",
      "\u001b[1;31mNameError\u001b[0m                                 Traceback (most recent call last)",
      "Input \u001b[1;32mIn [79]\u001b[0m, in \u001b[0;36m<cell line: 1>\u001b[1;34m()\u001b[0m\n\u001b[1;32m----> 1\u001b[0m \u001b[43mstudents\u001b[49m\n",
      "\u001b[1;31mNameError\u001b[0m: name 'students' is not defined"
     ]
    }
   ],
   "source": [
    "students"
   ]
  },
  {
   "cell_type": "code",
   "execution_count": null,
   "id": "76351e89",
   "metadata": {},
   "outputs": [
    {
     "name": "stdout",
     "output_type": "stream",
     "text": [
      "Help on method_descriptor:\n",
      "\n",
      "pop(...)\n",
      "    Remove and return an arbitrary set element.\n",
      "    Raises KeyError if the set is empty.\n",
      "\n"
     ]
    }
   ],
   "source": [
    "help(set.pop)"
   ]
  },
  {
   "cell_type": "code",
   "execution_count": null,
   "id": "529c9f52",
   "metadata": {},
   "outputs": [],
   "source": [
    "sample = (1,)"
   ]
  },
  {
   "cell_type": "code",
   "execution_count": null,
   "id": "3fc1c31d",
   "metadata": {},
   "outputs": [],
   "source": [
    "del sample"
   ]
  },
  {
   "cell_type": "code",
   "execution_count": null,
   "id": "a3acf7a6",
   "metadata": {},
   "outputs": [],
   "source": [
    "sample = ['Priyanka', 'Darshan', 'Pritvi', 'Rahul', 'Raman', 'Raj']\n"
   ]
  },
  {
   "cell_type": "code",
   "execution_count": null,
   "id": "a62b8742",
   "metadata": {},
   "outputs": [],
   "source": [
    "sample.append(\"Dhanushri\")"
   ]
  },
  {
   "cell_type": "code",
   "execution_count": null,
   "id": "00af2770",
   "metadata": {},
   "outputs": [
    {
     "data": {
      "text/plain": [
       "['Priyanka', 'Darshan', 'Pritvi', 'Rahul', 'Raman', 'Raj', 'Dhanushri']"
      ]
     },
     "execution_count": 89,
     "metadata": {},
     "output_type": "execute_result"
    }
   ],
   "source": [
    "sample"
   ]
  },
  {
   "cell_type": "code",
   "execution_count": null,
   "id": "95d3b120",
   "metadata": {},
   "outputs": [],
   "source": [
    "sample.extend([\"Durgadevi\",\"Gaurav\"])"
   ]
  },
  {
   "cell_type": "code",
   "execution_count": null,
   "id": "bf5b15ca",
   "metadata": {},
   "outputs": [
    {
     "data": {
      "text/plain": [
       "['Priyanka',\n",
       " 'Darshan',\n",
       " 'Pritvi',\n",
       " 'Rahul',\n",
       " 'Raman',\n",
       " 'Raj',\n",
       " 'Dhanushri',\n",
       " 'Durgadevi',\n",
       " 'Gaurav']"
      ]
     },
     "execution_count": 91,
     "metadata": {},
     "output_type": "execute_result"
    }
   ],
   "source": [
    "sample"
   ]
  },
  {
   "cell_type": "code",
   "execution_count": null,
   "id": "1011d041",
   "metadata": {},
   "outputs": [],
   "source": [
    "sample.insert(0,\"Vinu\")"
   ]
  },
  {
   "cell_type": "code",
   "execution_count": null,
   "id": "78ab2011",
   "metadata": {},
   "outputs": [],
   "source": [
    "sample.insert(1,\"Vini\")"
   ]
  },
  {
   "cell_type": "code",
   "execution_count": null,
   "id": "6d384f70",
   "metadata": {},
   "outputs": [
    {
     "data": {
      "text/plain": [
       "['Vinu',\n",
       " 'Vini',\n",
       " 'Priyanka',\n",
       " 'Darshan',\n",
       " 'Pritvi',\n",
       " 'Rahul',\n",
       " 'Raman',\n",
       " 'Raj',\n",
       " 'Dhanushri',\n",
       " 'Durgadevi',\n",
       " 'Gaurav']"
      ]
     },
     "execution_count": 95,
     "metadata": {},
     "output_type": "execute_result"
    }
   ],
   "source": [
    "sample"
   ]
  },
  {
   "cell_type": "code",
   "execution_count": null,
   "id": "b541e495",
   "metadata": {},
   "outputs": [],
   "source": [
    "sample.clear()"
   ]
  },
  {
   "cell_type": "code",
   "execution_count": null,
   "id": "30d1909f",
   "metadata": {},
   "outputs": [
    {
     "data": {
      "text/plain": [
       "[]"
      ]
     },
     "execution_count": 97,
     "metadata": {},
     "output_type": "execute_result"
    }
   ],
   "source": [
    "sample"
   ]
  },
  {
   "cell_type": "code",
   "execution_count": null,
   "id": "124da093",
   "metadata": {},
   "outputs": [],
   "source": [
    "sample_tuple = (1,2,3,4,3,1)"
   ]
  },
  {
   "cell_type": "code",
   "execution_count": null,
   "id": "5b1c522c",
   "metadata": {},
   "outputs": [
    {
     "data": {
      "text/plain": [
       "2"
      ]
     },
     "execution_count": 99,
     "metadata": {},
     "output_type": "execute_result"
    }
   ],
   "source": [
    "sample_tuple.count(1)"
   ]
  },
  {
   "cell_type": "code",
   "execution_count": null,
   "id": "a9bb02cf",
   "metadata": {},
   "outputs": [
    {
     "data": {
      "text/plain": [
       "(2, 3, 4, 3)"
      ]
     },
     "execution_count": 102,
     "metadata": {},
     "output_type": "execute_result"
    }
   ],
   "source": [
    "sample_tuple[1:5]"
   ]
  },
  {
   "cell_type": "code",
   "execution_count": null,
   "id": "61dae963",
   "metadata": {},
   "outputs": [],
   "source": []
  }
 ],
 "metadata": {
  "kernelspec": {
   "display_name": "Python 3",
   "language": "python",
   "name": "python3"
  },
  "language_info": {
   "codemirror_mode": {
    "name": "ipython",
    "version": 3
   },
   "file_extension": ".py",
   "mimetype": "text/x-python",
   "name": "python",
   "nbconvert_exporter": "python",
   "pygments_lexer": "ipython3",
   "version": "3.11.1 (tags/v3.11.1:a7a450f, Dec  6 2022, 19:58:39) [MSC v.1934 64 bit (AMD64)]"
  },
  "vscode": {
   "interpreter": {
    "hash": "a5f954a518b072afc267ebd6eb29b2da47959f1e543e90f8fa4fe0e403b8accf"
   }
  }
 },
 "nbformat": 4,
 "nbformat_minor": 5
}
