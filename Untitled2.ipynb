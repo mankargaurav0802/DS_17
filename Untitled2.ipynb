{
 "cells": [
  {
   "cell_type": "code",
   "execution_count": 1,
   "id": "ffade3b3",
   "metadata": {},
   "outputs": [
    {
     "name": "stdout",
     "output_type": "stream",
     "text": [
      "enter the student name:Priyanka\n",
      "Priyanka 91\n"
     ]
    }
   ],
   "source": [
    "student_name = input(\"enter the student name:\")\n",
    "student_list = [\"Prithvi\",\"Priyanka\",\"Jafar\",\"Rahul\"]\n",
    "marks_list = [90,91,86,54]\n",
    "for  i in range(0,4):\n",
    "    if student_name==student_list[i]:\n",
    "        print(student_list[i], marks_list[i])"
   ]
  },
  {
   "cell_type": "code",
   "execution_count": 4,
   "id": "e3bb39b2",
   "metadata": {},
   "outputs": [
    {
     "name": "stdout",
     "output_type": "stream",
     "text": [
      "0\n",
      "1\n",
      "2\n",
      "3\n",
      "4\n"
     ]
    }
   ],
   "source": [
    "for i in range(0,5):\n",
    "    print(i)"
   ]
  },
  {
   "cell_type": "code",
   "execution_count": 5,
   "id": "ba962aa9",
   "metadata": {},
   "outputs": [
    {
     "name": "stdout",
     "output_type": "stream",
     "text": [
      "Enter the student name:Jafar\n",
      "86\n"
     ]
    }
   ],
   "source": [
    "student_list = [\"Prithvi\",\"Priyanka\",\"Jafar\",\"Rahul\"]\n",
    "marks_list = [90,91,86,54]\n",
    "stu_name=input(\"Enter the student name:\")\n",
    "if stu_name not in student_list:\n",
    "    print(\"Enter valid name\")\n",
    "else:\n",
    "    print(marks_list[student_list.index(stu_name)])"
   ]
  },
  {
   "cell_type": "code",
   "execution_count": 6,
   "id": "f45edd8a",
   "metadata": {},
   "outputs": [
    {
     "data": {
      "text/plain": [
       "2"
      ]
     },
     "execution_count": 6,
     "metadata": {},
     "output_type": "execute_result"
    }
   ],
   "source": [
    "student_list.index(stu_name)"
   ]
  },
  {
   "cell_type": "code",
   "execution_count": null,
   "id": "396daf9e",
   "metadata": {},
   "outputs": [],
   "source": []
  }
 ],
 "metadata": {
  "kernelspec": {
   "display_name": "Python 3 (ipykernel)",
   "language": "python",
   "name": "python3"
  },
  "language_info": {
   "codemirror_mode": {
    "name": "ipython",
    "version": 3
   },
   "file_extension": ".py",
   "mimetype": "text/x-python",
   "name": "python",
   "nbconvert_exporter": "python",
   "pygments_lexer": "ipython3",
   "version": "3.10.7"
  }
 },
 "nbformat": 4,
 "nbformat_minor": 5
}
