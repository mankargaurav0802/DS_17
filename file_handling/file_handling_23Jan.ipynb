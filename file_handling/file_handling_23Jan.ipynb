{
 "cells": [
  {
   "cell_type": "code",
   "execution_count": 6,
   "id": "531cfe46",
   "metadata": {},
   "outputs": [],
   "source": [
    "file_handler = open('news.txt','r',encoding='utf-8')\n",
    "news = file_handler.read()\n",
    "file_handler.close()"
   ]
  },
  {
   "cell_type": "code",
   "execution_count": 21,
   "id": "8423102c",
   "metadata": {},
   "outputs": [
    {
     "name": "stdout",
     "output_type": "stream",
     "text": [
      "Initial cursor position 1400\n",
      "\n"
     ]
    }
   ],
   "source": [
    "with open('news.txt','a+',encoding='utf-8') as file_handler:\n",
    "    print(\"Initial cursor position\",file_handler.tell())\n",
    "    print(file_handler.read())\n",
    "    file_handler.write(\"A+ mode started\")"
   ]
  },
  {
   "cell_type": "code",
   "execution_count": 22,
   "id": "b01748a2",
   "metadata": {
    "scrolled": false
   },
   "outputs": [
    {
     "name": "stdout",
     "output_type": "stream",
     "text": [
      "Initial cursor position 0\n",
      "Job Layoffs 2023: With the layoffs,\n",
      "Google joins a host of other tech giants that have drastically scaled back operations amid a faltering global economy and soaring inflation. Meta Platforms, Twitter and Amazon have all slashed their ranks. Thanks to a resilient search business, Google has been one of the longest tech holdouts avoiding major workforce reductions. But the company is dealing with a slowdown in digital advertising\n",
      "and its cloud-computing division continues to trail Amazon and Microsoft Corp\n",
      "Big Tech firms and Wall Street titans are leading a string of layoffs across\n",
      "corporate America as companies look to rein in costs to ride out the economic downturn. Rapid interest rate hikes, weak consumer demand and an economic slowdown in China have forced firms such as Amazon, Walt Disney, Facebook-owner Meta and American banks to trim their workforce.\n",
      "“These are important moments to sharpen our focus, reengineer our cost base,\n",
      "and direct our talent and capital to our highest priorities,” Pichai wrote. There will be job cuts in the US and in other unspecified countries, according to Pichai’s letter. The tech industry has been forced to freeze hiring and cut jobs “as the clock has struck midnight on hyper growth and digital advertising headwinds are on the horizon,\n",
      "” Wedbush Securities analysts Dan Ives, Taz Koujalgi and John Katsingris wrote Friday.A+ mode startedA+ mode started\n"
     ]
    }
   ],
   "source": [
    "with open('news.txt','r+',encoding='utf-8') as file_handler:\n",
    "    print(\"Initial cursor position\",file_handler.tell())\n",
    "    print(file_handler.read())\n",
    "    file_handler.write(\"A+ mode started\")"
   ]
  },
  {
   "cell_type": "code",
   "execution_count": 23,
   "id": "7553a61a",
   "metadata": {},
   "outputs": [
    {
     "name": "stdout",
     "output_type": "stream",
     "text": [
      "Initial cursor position 0\n",
      "\n"
     ]
    }
   ],
   "source": [
    "with open('news.txt','w+',encoding='utf-8') as file_handler:\n",
    "    print(\"Initial cursor position\",file_handler.tell())\n",
    "    print(file_handler.read())\n",
    "    file_handler.write(\"A+ mode started\")"
   ]
  },
  {
   "cell_type": "code",
   "execution_count": 24,
   "id": "e64d6205",
   "metadata": {},
   "outputs": [
    {
     "name": "stdout",
     "output_type": "stream",
     "text": [
      "Help on built-in function seek:\n",
      "\n",
      "seek(cookie, whence=0, /) method of _io.TextIOWrapper instance\n",
      "    Change stream position.\n",
      "    \n",
      "    Change the stream position to the given byte offset. The offset is\n",
      "    interpreted relative to the position indicated by whence.  Values\n",
      "    for whence are:\n",
      "    \n",
      "    * 0 -- start of stream (the default); offset should be zero or positive\n",
      "    * 1 -- current stream position; offset may be negative\n",
      "    * 2 -- end of stream; offset is usually negative\n",
      "    \n",
      "    Return the new absolute position.\n",
      "\n"
     ]
    }
   ],
   "source": [
    "help(file_handler.seek)"
   ]
  },
  {
   "cell_type": "code",
   "execution_count": 28,
   "id": "3fc0d9bc",
   "metadata": {},
   "outputs": [
    {
     "name": "stdout",
     "output_type": "stream",
     "text": [
      "Starting position of cursor 0\n",
      "123456789\n",
      "After reading what is the cursor position 9\n",
      "After seek(3) position of the cursor 3\n",
      "Reading from position 3: 456789\n"
     ]
    }
   ],
   "source": [
    "with open('news.txt','r') as file_handler:\n",
    "    print(\"Starting position of cursor\",file_handler.tell())\n",
    "    print(file_handler.read())\n",
    "    print(\"After reading what is the cursor position\",file_handler.tell())\n",
    "    file_handler.seek(3)\n",
    "    print(\"After seek(3) position of the cursor\",file_handler.tell())\n",
    "    print(\"Reading from position 3:\",file_handler.read())"
   ]
  },
  {
   "cell_type": "code",
   "execution_count": 35,
   "id": "461b0523",
   "metadata": {},
   "outputs": [
    {
     "name": "stdout",
     "output_type": "stream",
     "text": [
      "Initial Position of cursor 0\n",
      "Final position of cursor 17\n"
     ]
    }
   ],
   "source": [
    "with open('news.txt','r+') as file_handler:\n",
    "    print(\"Initial Position of cursor\",file_handler.tell())\n",
    "    file_handler.seek(15)\n",
    "#     print(file_handler.read())\n",
    "    file_handler.write(\"23\")\n",
    "    print(\"Final position of cursor\",file_handler.tell())"
   ]
  },
  {
   "cell_type": "code",
   "execution_count": null,
   "id": "2e4276cc",
   "metadata": {},
   "outputs": [],
   "source": []
  }
 ],
 "metadata": {
  "kernelspec": {
   "display_name": "Python 3 (ipykernel)",
   "language": "python",
   "name": "python3"
  },
  "language_info": {
   "codemirror_mode": {
    "name": "ipython",
    "version": 3
   },
   "file_extension": ".py",
   "mimetype": "text/x-python",
   "name": "python",
   "nbconvert_exporter": "python",
   "pygments_lexer": "ipython3",
   "version": "3.10.7"
  }
 },
 "nbformat": 4,
 "nbformat_minor": 5
}
