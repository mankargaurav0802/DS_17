{
 "cells": [
  {
   "cell_type": "code",
   "execution_count": 45,
   "id": "450afa2e",
   "metadata": {},
   "outputs": [],
   "source": [
    "## Reading entire text of your file\n",
    "\n",
    "file_handler = open(\"news.txt\",'r',encoding=\"utf8\")\n",
    "data = file_handler.readlines()\n",
    "# print(data)\n",
    "file_handler.close()"
   ]
  },
  {
   "cell_type": "code",
   "execution_count": 46,
   "id": "af7bb9dd",
   "metadata": {},
   "outputs": [
    {
     "name": "stdout",
     "output_type": "stream",
     "text": [
      "['Job Layoffs 2023: With the layoffs,\\n', 'Google joins a host of other tech giants that have drastically scaled back operations amid a faltering global economy and soaring inflation. Meta Platforms, Twitter and Amazon have all slashed their ranks. Thanks to a resilient search business, Google has been one of the longest tech holdouts avoiding major workforce reductions. But the company is dealing with a slowdown in digital advertising\\n', 'and its cloud-computing division continues to trail Amazon and Microsoft Corp\\n', 'Big Tech firms and Wall Street titans are leading a string of layoffs across\\n', 'corporate America as companies look to rein in costs to ride out the economic downturn. Rapid interest rate hikes, weak consumer demand and an economic slowdown in China have forced firms such as Amazon, Walt Disney, Facebook-owner Meta and American banks to trim their workforce.\\n', '“These are important moments to sharpen our focus, reengineer our cost base,\\n', 'and direct our talent and capital to our highest priorities,” Pichai wrote. There will be job cuts in the US and in other unspecified countries, according to Pichai’s letter. The tech industry has been forced to freeze hiring and cut jobs “as the clock has struck midnight on hyper growth and digital advertising headwinds are on the horizon,\\n', '” Wedbush Securities analysts Dan Ives, Taz Koujalgi and John Katsingris wrote Friday.']\n"
     ]
    }
   ],
   "source": [
    "print(data)"
   ]
  },
  {
   "cell_type": "code",
   "execution_count": 56,
   "id": "0090563e",
   "metadata": {},
   "outputs": [],
   "source": [
    "length_of_news_sentence = [str(len(element))+\"\\n\" for element in data]"
   ]
  },
  {
   "cell_type": "code",
   "execution_count": 57,
   "id": "fe6503d6",
   "metadata": {},
   "outputs": [
    {
     "data": {
      "text/plain": [
       "['36\\n', '397\\n', '78\\n', '77\\n', '281\\n', '77\\n', '343\\n', '86\\n']"
      ]
     },
     "execution_count": 57,
     "metadata": {},
     "output_type": "execute_result"
    }
   ],
   "source": [
    "length_of_news_sentence"
   ]
  },
  {
   "cell_type": "code",
   "execution_count": 58,
   "id": "26989af3",
   "metadata": {},
   "outputs": [],
   "source": [
    "file_handle = open('result.txt','w')\n",
    "file_handle.writelines(length_of_news_sentence)\n",
    "\n",
    "file_handle.close()"
   ]
  },
  {
   "cell_type": "code",
   "execution_count": 55,
   "id": "0c2781d7",
   "metadata": {},
   "outputs": [
    {
     "name": "stdout",
     "output_type": "stream",
     "text": [
      "Help on built-in function writelines:\n",
      "\n",
      "writelines(lines, /) method of _io.TextIOWrapper instance\n",
      "    Write a list of lines to stream.\n",
      "    \n",
      "    Line separators are not added, so it is usual for each of the\n",
      "    lines provided to have a line separator at the end.\n",
      "\n"
     ]
    }
   ],
   "source": [
    "help(file_handle.writelines)"
   ]
  },
  {
   "cell_type": "code",
   "execution_count": null,
   "id": "94ffc338",
   "metadata": {},
   "outputs": [],
   "source": []
  },
  {
   "cell_type": "code",
   "execution_count": 38,
   "id": "4e6254df",
   "metadata": {},
   "outputs": [],
   "source": [
    "capitalised_data  = [element.capitalize() for element in data]"
   ]
  },
  {
   "cell_type": "code",
   "execution_count": 41,
   "id": "2933d86b",
   "metadata": {},
   "outputs": [],
   "source": [
    "capitalised_text = \"\".join(capitalised_data)"
   ]
  },
  {
   "cell_type": "code",
   "execution_count": 42,
   "id": "90879a3f",
   "metadata": {},
   "outputs": [
    {
     "data": {
      "text/plain": [
       "'Job layoffs 2023: with the layoffs,\\nGoogle joins a host of other tech giants that have drastically scaled back operations amid a faltering global economy and soaring inflation. meta platforms, twitter and amazon have all slashed their ranks. thanks to a resilient search business, google has been one of the longest tech holdouts avoiding major workforce reductions. but the company is dealing with a slowdown in digital advertising\\nAnd its cloud-computing division continues to trail amazon and microsoft corp\\nBig tech firms and wall street titans are leading a string of layoffs across\\nCorporate america as companies look to rein in costs to ride out the economic downturn. rapid interest rate hikes, weak consumer demand and an economic slowdown in china have forced firms such as amazon, walt disney, facebook-owner meta and american banks to trim their workforce.\\n“these are important moments to sharpen our focus, reengineer our cost base,\\nAnd direct our talent and capital to our highest priorities,” pichai wrote. there will be job cuts in the us and in other unspecified countries, according to pichai’s letter. the tech industry has been forced to freeze hiring and cut jobs “as the clock has struck midnight on hyper growth and digital advertising headwinds are on the horizon,\\n” wedbush securities analysts dan ives, taz koujalgi and john katsingris wrote friday.'"
      ]
     },
     "execution_count": 42,
     "metadata": {},
     "output_type": "execute_result"
    }
   ],
   "source": [
    "capitalised_text"
   ]
  },
  {
   "cell_type": "code",
   "execution_count": 43,
   "id": "bc99de68",
   "metadata": {},
   "outputs": [],
   "source": [
    "file_handler = open('capitalise_news.txt','w')\n",
    "file_handler.write(capitalised_text)\n",
    "file_handler.close()"
   ]
  },
  {
   "cell_type": "code",
   "execution_count": null,
   "id": "cdc80487",
   "metadata": {},
   "outputs": [],
   "source": []
  },
  {
   "cell_type": "code",
   "execution_count": 22,
   "id": "192f1907",
   "metadata": {},
   "outputs": [],
   "source": [
    "data_lower = data.lower()"
   ]
  },
  {
   "cell_type": "code",
   "execution_count": 28,
   "id": "dcf3b900",
   "metadata": {},
   "outputs": [],
   "source": [
    "file_writer = open(\"lowercases_news.txt\",'w')\n",
    "file_writer.write(data_lower)\n",
    "file_writer.write(\"\\nFile writer would wait for closing of file object\")\n",
    "file_writer.close()"
   ]
  },
  {
   "cell_type": "code",
   "execution_count": 29,
   "id": "34cfb50d",
   "metadata": {},
   "outputs": [],
   "source": [
    "file_writer_2 = open(\"lowercases_news.txt\",'w')"
   ]
  },
  {
   "cell_type": "code",
   "execution_count": null,
   "id": "1b06e1ab",
   "metadata": {},
   "outputs": [],
   "source": []
  },
  {
   "cell_type": "code",
   "execution_count": 14,
   "id": "12b72434",
   "metadata": {},
   "outputs": [],
   "source": [
    "## reading each line and storing it in a list\n",
    "\n",
    "file_handler = open(\"news.txt\",'r',encoding=\"utf8\")\n",
    "data = file_handler.readlines()\n",
    "# print(data)\n",
    "file_handler.close()"
   ]
  },
  {
   "cell_type": "code",
   "execution_count": 15,
   "id": "72d8b589",
   "metadata": {},
   "outputs": [
    {
     "data": {
      "text/plain": [
       "['Job Layoffs 2023: With the layoffs,\\n',\n",
       " 'Google joins a host of other tech giants that have drastically scaled back operations amid a faltering global economy and soaring inflation. Meta Platforms, Twitter and Amazon have all slashed their ranks. Thanks to a resilient search business, Google has been one of the longest tech holdouts avoiding major workforce reductions. But the company is dealing with a slowdown in digital advertising\\n',\n",
       " 'and its cloud-computing division continues to trail Amazon and Microsoft Corp\\n',\n",
       " 'Big Tech firms and Wall Street titans are leading a string of layoffs across\\n',\n",
       " 'corporate America as companies look to rein in costs to ride out the economic downturn. Rapid interest rate hikes, weak consumer demand and an economic slowdown in China have forced firms such as Amazon, Walt Disney, Facebook-owner Meta and American banks to trim their workforce.\\n',\n",
       " '“These are important moments to sharpen our focus, reengineer our cost base,\\n',\n",
       " 'and direct our talent and capital to our highest priorities,” Pichai wrote. There will be job cuts in the US and in other unspecified countries, according to Pichai’s letter. The tech industry has been forced to freeze hiring and cut jobs “as the clock has struck midnight on hyper growth and digital advertising headwinds are on the horizon,\\n',\n",
       " '” Wedbush Securities analysts Dan Ives, Taz Koujalgi and John Katsingris wrote Friday.']"
      ]
     },
     "execution_count": 15,
     "metadata": {},
     "output_type": "execute_result"
    }
   ],
   "source": [
    "data"
   ]
  },
  {
   "cell_type": "code",
   "execution_count": null,
   "id": "cb16d54c",
   "metadata": {},
   "outputs": [],
   "source": []
  }
 ],
 "metadata": {
  "kernelspec": {
   "display_name": "Python 3 (ipykernel)",
   "language": "python",
   "name": "python3"
  },
  "language_info": {
   "codemirror_mode": {
    "name": "ipython",
    "version": 3
   },
   "file_extension": ".py",
   "mimetype": "text/x-python",
   "name": "python",
   "nbconvert_exporter": "python",
   "pygments_lexer": "ipython3",
   "version": "3.10.7"
  }
 },
 "nbformat": 4,
 "nbformat_minor": 5
}
