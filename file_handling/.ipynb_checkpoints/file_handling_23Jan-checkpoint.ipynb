{
 "cells": [
  {
   "cell_type": "code",
   "execution_count": 6,
   "id": "741d7dfd",
   "metadata": {},
   "outputs": [],
   "source": [
    "file_handler = open('news.txt','r',encoding='utf-8')\n",
    "news = file_handler.read()\n",
    "file_handler.close()"
   ]
  },
  {
   "cell_type": "code",
   "execution_count": 15,
   "id": "4f5ff003",
   "metadata": {},
   "outputs": [
    {
     "name": "stdout",
     "output_type": "stream",
     "text": [
      "\n"
     ]
    }
   ],
   "source": [
    "with open('news.txt','w+',encoding='utf-8') as file_handler:\n",
    "    print(file_handler.read())\n",
    "    file_handler.write(\"R+ mode started\")\n",
    "\n"
   ]
  },
  {
   "cell_type": "code",
   "execution_count": null,
   "id": "4f5e5f48",
   "metadata": {},
   "outputs": [],
   "source": []
  }
 ],
 "metadata": {
  "kernelspec": {
   "display_name": "Python 3 (ipykernel)",
   "language": "python",
   "name": "python3"
  },
  "language_info": {
   "codemirror_mode": {
    "name": "ipython",
    "version": 3
   },
   "file_extension": ".py",
   "mimetype": "text/x-python",
   "name": "python",
   "nbconvert_exporter": "python",
   "pygments_lexer": "ipython3",
   "version": "3.10.7"
  }
 },
 "nbformat": 4,
 "nbformat_minor": 5
}
