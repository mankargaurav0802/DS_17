{
 "cells": [
  {
   "cell_type": "code",
   "execution_count": 18,
   "id": "b68713fd",
   "metadata": {},
   "outputs": [],
   "source": [
    "## Reading entire text of your file\n",
    "\n",
    "file_handler = open(\"news.txt\",'r',encoding=\"utf8\")\n",
    "data = file_handler.read()\n",
    "# print(data)\n",
    "file_handler.close()"
   ]
  },
  {
   "cell_type": "code",
   "execution_count": 19,
   "id": "0f985078",
   "metadata": {},
   "outputs": [
    {
     "name": "stdout",
     "output_type": "stream",
     "text": [
      "Job Layoffs 2023: With the layoffs,\n",
      "Google joins a host of other tech giants that have drastically scaled back operations amid a faltering global economy and soaring inflation. Meta Platforms, Twitter and Amazon have all slashed their ranks. Thanks to a resilient search business, Google has been one of the longest tech holdouts avoiding major workforce reductions. But the company is dealing with a slowdown in digital advertising\n",
      "and its cloud-computing division continues to trail Amazon and Microsoft Corp\n",
      "Big Tech firms and Wall Street titans are leading a string of layoffs across\n",
      "corporate America as companies look to rein in costs to ride out the economic downturn. Rapid interest rate hikes, weak consumer demand and an economic slowdown in China have forced firms such as Amazon, Walt Disney, Facebook-owner Meta and American banks to trim their workforce.\n",
      "“These are important moments to sharpen our focus, reengineer our cost base,\n",
      "and direct our talent and capital to our highest priorities,” Pichai wrote. There will be job cuts in the US and in other unspecified countries, according to Pichai’s letter. The tech industry has been forced to freeze hiring and cut jobs “as the clock has struck midnight on hyper growth and digital advertising headwinds are on the horizon,\n",
      "” Wedbush Securities analysts Dan Ives, Taz Koujalgi and John Katsingris wrote Friday.\n"
     ]
    }
   ],
   "source": [
    "print(data)"
   ]
  },
  {
   "cell_type": "code",
   "execution_count": 20,
   "id": "21aa37bb",
   "metadata": {},
   "outputs": [
    {
     "data": {
      "text/plain": [
       "str"
      ]
     },
     "execution_count": 20,
     "metadata": {},
     "output_type": "execute_result"
    }
   ],
   "source": [
    "type(data)"
   ]
  },
  {
   "cell_type": "code",
   "execution_count": 22,
   "id": "097270a5",
   "metadata": {},
   "outputs": [],
   "source": [
    "data_lower = data.lower()"
   ]
  },
  {
   "cell_type": "code",
   "execution_count": 27,
   "id": "74facafd",
   "metadata": {},
   "outputs": [],
   "source": [
    "file_writer = open(\"lowercases_news.txt\",'w')\n",
    "file_writer.write(data_lower)\n",
    "file_writer.write(\"\\nFile writer would wait for closing of file object\")\n",
    "file_writer.close()"
   ]
  },
  {
   "cell_type": "code",
   "execution_count": null,
   "id": "081c2caf",
   "metadata": {},
   "outputs": [],
   "source": []
  },
  {
   "cell_type": "code",
   "execution_count": null,
   "id": "24f23987",
   "metadata": {},
   "outputs": [],
   "source": []
  },
  {
   "cell_type": "code",
   "execution_count": 14,
   "id": "bebab703",
   "metadata": {},
   "outputs": [],
   "source": [
    "## reading each line and storing it in a list\n",
    "\n",
    "file_handler = open(\"news.txt\",'r',encoding=\"utf8\")\n",
    "data = file_handler.readlines()\n",
    "# print(data)\n",
    "file_handler.close()"
   ]
  },
  {
   "cell_type": "code",
   "execution_count": 15,
   "id": "6ffb9ad8",
   "metadata": {},
   "outputs": [
    {
     "data": {
      "text/plain": [
       "['Job Layoffs 2023: With the layoffs,\\n',\n",
       " 'Google joins a host of other tech giants that have drastically scaled back operations amid a faltering global economy and soaring inflation. Meta Platforms, Twitter and Amazon have all slashed their ranks. Thanks to a resilient search business, Google has been one of the longest tech holdouts avoiding major workforce reductions. But the company is dealing with a slowdown in digital advertising\\n',\n",
       " 'and its cloud-computing division continues to trail Amazon and Microsoft Corp\\n',\n",
       " 'Big Tech firms and Wall Street titans are leading a string of layoffs across\\n',\n",
       " 'corporate America as companies look to rein in costs to ride out the economic downturn. Rapid interest rate hikes, weak consumer demand and an economic slowdown in China have forced firms such as Amazon, Walt Disney, Facebook-owner Meta and American banks to trim their workforce.\\n',\n",
       " '“These are important moments to sharpen our focus, reengineer our cost base,\\n',\n",
       " 'and direct our talent and capital to our highest priorities,” Pichai wrote. There will be job cuts in the US and in other unspecified countries, according to Pichai’s letter. The tech industry has been forced to freeze hiring and cut jobs “as the clock has struck midnight on hyper growth and digital advertising headwinds are on the horizon,\\n',\n",
       " '” Wedbush Securities analysts Dan Ives, Taz Koujalgi and John Katsingris wrote Friday.']"
      ]
     },
     "execution_count": 15,
     "metadata": {},
     "output_type": "execute_result"
    }
   ],
   "source": [
    "data"
   ]
  },
  {
   "cell_type": "code",
   "execution_count": null,
   "id": "c3d5a7f1",
   "metadata": {},
   "outputs": [],
   "source": []
  }
 ],
 "metadata": {
  "kernelspec": {
   "display_name": "Python 3 (ipykernel)",
   "language": "python",
   "name": "python3"
  },
  "language_info": {
   "codemirror_mode": {
    "name": "ipython",
    "version": 3
   },
   "file_extension": ".py",
   "mimetype": "text/x-python",
   "name": "python",
   "nbconvert_exporter": "python",
   "pygments_lexer": "ipython3",
   "version": "3.10.7"
  }
 },
 "nbformat": 4,
 "nbformat_minor": 5
}
