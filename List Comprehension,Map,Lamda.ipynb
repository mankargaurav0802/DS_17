{
 "cells": [
  {
   "cell_type": "code",
   "execution_count": 2,
   "id": "759964d8",
   "metadata": {},
   "outputs": [
    {
     "name": "stdout",
     "output_type": "stream",
     "text": [
      "Please enter marks space separated29 45 65 34 78 68 90\n"
     ]
    }
   ],
   "source": [
    "user_input = input(\"Please enter marks space separated\")"
   ]
  },
  {
   "cell_type": "code",
   "execution_count": 5,
   "id": "79ab73e1",
   "metadata": {},
   "outputs": [],
   "source": [
    "user_input_lst = user_input.split()"
   ]
  },
  {
   "cell_type": "code",
   "execution_count": 6,
   "id": "1151d730",
   "metadata": {},
   "outputs": [
    {
     "data": {
      "text/plain": [
       "['29', '45', '65', '34', '78', '68', '90']"
      ]
     },
     "execution_count": 6,
     "metadata": {},
     "output_type": "execute_result"
    }
   ],
   "source": [
    "user_input_lst"
   ]
  },
  {
   "cell_type": "code",
   "execution_count": 8,
   "id": "f45cf42e",
   "metadata": {},
   "outputs": [],
   "source": [
    "user_input_lst_int = []\n",
    "for num in user_input_lst:\n",
    "    num = int(num)\n",
    "    user_input_lst_int.append(num)"
   ]
  },
  {
   "cell_type": "code",
   "execution_count": 9,
   "id": "c40e151b",
   "metadata": {},
   "outputs": [
    {
     "data": {
      "text/plain": [
       "[29, 45, 65, 34, 78, 68, 90]"
      ]
     },
     "execution_count": 9,
     "metadata": {},
     "output_type": "execute_result"
    }
   ],
   "source": [
    "user_input_lst_int"
   ]
  },
  {
   "cell_type": "code",
   "execution_count": 11,
   "id": "e0192bb4",
   "metadata": {},
   "outputs": [
    {
     "data": {
      "text/plain": [
       "[29, 45, 65, 34, 78, 68, 90]"
      ]
     },
     "execution_count": 11,
     "metadata": {},
     "output_type": "execute_result"
    }
   ],
   "source": [
    "list(map(int,user_input_lst))"
   ]
  },
  {
   "cell_type": "code",
   "execution_count": 12,
   "id": "62f636dc",
   "metadata": {},
   "outputs": [
    {
     "ename": "TypeError",
     "evalue": "'int' object is not iterable",
     "output_type": "error",
     "traceback": [
      "\u001b[1;31m---------------------------------------------------------------------------\u001b[0m",
      "\u001b[1;31mTypeError\u001b[0m                                 Traceback (most recent call last)",
      "Input \u001b[1;32mIn [12]\u001b[0m, in \u001b[0;36m<cell line: 1>\u001b[1;34m()\u001b[0m\n\u001b[1;32m----> 1\u001b[0m \u001b[38;5;28;43mdict\u001b[39;49m\u001b[43m(\u001b[49m\u001b[38;5;241;43m1\u001b[39;49m\u001b[43m)\u001b[49m\n",
      "\u001b[1;31mTypeError\u001b[0m: 'int' object is not iterable"
     ]
    }
   ],
   "source": [
    "dict(1)"
   ]
  },
  {
   "cell_type": "code",
   "execution_count": 19,
   "id": "92e55885",
   "metadata": {},
   "outputs": [
    {
     "data": {
      "text/plain": [
       "{5: 'TutorialsPoint'}"
      ]
     },
     "execution_count": 19,
     "metadata": {},
     "output_type": "execute_result"
    }
   ],
   "source": [
    "dict( ((5, \"TutorialsPoint\"),) )"
   ]
  },
  {
   "cell_type": "code",
   "execution_count": 29,
   "id": "b2990025",
   "metadata": {},
   "outputs": [
    {
     "data": {
      "text/plain": [
       "{1: 'Rahul', 2: 'Prithvi', 3: 'Shubham', 4: 'Suyog', 5: 'Harsh', 6: 'Ram'}"
      ]
     },
     "execution_count": 29,
     "metadata": {},
     "output_type": "execute_result"
    }
   ],
   "source": [
    "dict(map(tuple,list(zip(keys,values))))"
   ]
  },
  {
   "cell_type": "code",
   "execution_count": 30,
   "id": "c7f50957",
   "metadata": {},
   "outputs": [
    {
     "data": {
      "text/plain": [
       "[(1, 'Rahul'),\n",
       " (2, 'Prithvi'),\n",
       " (3, 'Shubham'),\n",
       " (4, 'Suyog'),\n",
       " (5, 'Harsh'),\n",
       " (6, 'Ram')]"
      ]
     },
     "execution_count": 30,
     "metadata": {},
     "output_type": "execute_result"
    }
   ],
   "source": [
    "list(map(tuple,list(zip(keys,values))))"
   ]
  },
  {
   "cell_type": "code",
   "execution_count": 32,
   "id": "f4f8e82e",
   "metadata": {},
   "outputs": [
    {
     "data": {
      "text/plain": [
       "{1: 'Rahul', 2: 'Prithvi', 3: 'Shubham', 4: 'Suyog', 5: 'Harsh', 6: 'Ram'}"
      ]
     },
     "execution_count": 32,
     "metadata": {},
     "output_type": "execute_result"
    }
   ],
   "source": [
    "dict(list(zip(keys,values)))"
   ]
  },
  {
   "cell_type": "code",
   "execution_count": 33,
   "id": "bf2e5fe4",
   "metadata": {},
   "outputs": [],
   "source": [
    "def create_dict(key,value):\n",
    "    return {key:value}"
   ]
  },
  {
   "cell_type": "code",
   "execution_count": 20,
   "id": "48cf9c07",
   "metadata": {},
   "outputs": [],
   "source": [
    "keys = [1,2,3,4,5,6]\n",
    "values = [\"Rahul\",\"Prithvi\",\"Shubham\",\"Suyog\",\"Harsh\",\"Ram\"]"
   ]
  },
  {
   "cell_type": "code",
   "execution_count": 36,
   "id": "3b2d27e1",
   "metadata": {},
   "outputs": [
    {
     "data": {
      "text/plain": [
       "{1: 'Rahul'}"
      ]
     },
     "execution_count": 36,
     "metadata": {},
     "output_type": "execute_result"
    }
   ],
   "source": [
    "create_dict(1,\"Rahul\")"
   ]
  },
  {
   "cell_type": "code",
   "execution_count": 39,
   "id": "17951d5f",
   "metadata": {},
   "outputs": [
    {
     "name": "stdout",
     "output_type": "stream",
     "text": [
      "[{1: 'Rahul'}, {2: 'Prithvi'}, {3: 'Shubham'}, {4: 'Suyog'}, {5: 'Harsh'}, {6: 'Ram'}]\n"
     ]
    }
   ],
   "source": [
    "print(list(map(create_dict,keys,values)))"
   ]
  },
  {
   "cell_type": "code",
   "execution_count": 40,
   "id": "5863c10a",
   "metadata": {},
   "outputs": [],
   "source": [
    "def get_sum_of_three_num(num1,num2,num3):\n",
    "    return num1+num2+num3"
   ]
  },
  {
   "cell_type": "code",
   "execution_count": 41,
   "id": "1e419d29",
   "metadata": {},
   "outputs": [
    {
     "data": {
      "text/plain": [
       "6"
      ]
     },
     "execution_count": 41,
     "metadata": {},
     "output_type": "execute_result"
    }
   ],
   "source": [
    "get_sum_of_three_num(1,2,3)"
   ]
  },
  {
   "cell_type": "code",
   "execution_count": 44,
   "id": "f411b95a",
   "metadata": {},
   "outputs": [],
   "source": [
    "num1 = [1,2,3,4,5,6,7]\n",
    "num2 = [7,6,5,4,3,2,1]\n",
    "num3 = [1,1,1,1,1]"
   ]
  },
  {
   "cell_type": "code",
   "execution_count": 43,
   "id": "56503eb5",
   "metadata": {},
   "outputs": [
    {
     "data": {
      "text/plain": [
       "[9, 9, 9, 9, 9, 9, 9]"
      ]
     },
     "execution_count": 43,
     "metadata": {},
     "output_type": "execute_result"
    }
   ],
   "source": [
    "list(map(get_sum_of_three_num,num1,num2,num3))"
   ]
  },
  {
   "cell_type": "code",
   "execution_count": 45,
   "id": "cc8d52e3",
   "metadata": {},
   "outputs": [
    {
     "data": {
      "text/plain": [
       "[9, 9, 9, 9, 9]"
      ]
     },
     "execution_count": 45,
     "metadata": {},
     "output_type": "execute_result"
    }
   ],
   "source": [
    "list(map(get_sum_of_three_num,num1,num2,num3))"
   ]
  },
  {
   "cell_type": "code",
   "execution_count": 46,
   "id": "7555a613",
   "metadata": {},
   "outputs": [
    {
     "name": "stdout",
     "output_type": "stream",
     "text": [
      "Help on class map in module builtins:\n",
      "\n",
      "class map(object)\n",
      " |  map(func, *iterables) --> map object\n",
      " |  \n",
      " |  Make an iterator that computes the function using arguments from\n",
      " |  each of the iterables.  Stops when the shortest iterable is exhausted.\n",
      " |  \n",
      " |  Methods defined here:\n",
      " |  \n",
      " |  __getattribute__(self, name, /)\n",
      " |      Return getattr(self, name).\n",
      " |  \n",
      " |  __iter__(self, /)\n",
      " |      Implement iter(self).\n",
      " |  \n",
      " |  __next__(self, /)\n",
      " |      Implement next(self).\n",
      " |  \n",
      " |  __reduce__(...)\n",
      " |      Return state information for pickling.\n",
      " |  \n",
      " |  ----------------------------------------------------------------------\n",
      " |  Static methods defined here:\n",
      " |  \n",
      " |  __new__(*args, **kwargs) from builtins.type\n",
      " |      Create and return a new object.  See help(type) for accurate signature.\n",
      "\n"
     ]
    }
   ],
   "source": [
    "help(map)"
   ]
  },
  {
   "cell_type": "code",
   "execution_count": 50,
   "id": "e856a304",
   "metadata": {},
   "outputs": [
    {
     "name": "stdout",
     "output_type": "stream",
     "text": [
      "Help on function <lambda> in module __main__:\n",
      "\n",
      "<lambda> lambda x\n",
      "\n"
     ]
    }
   ],
   "source": [
    "help(lambda x:x)"
   ]
  },
  {
   "cell_type": "code",
   "execution_count": 57,
   "id": "c7af5836",
   "metadata": {},
   "outputs": [],
   "source": [
    "def square(num):\n",
    "    return num*num,num,num*num*num"
   ]
  },
  {
   "cell_type": "code",
   "execution_count": 58,
   "id": "f1cce622",
   "metadata": {},
   "outputs": [
    {
     "data": {
      "text/plain": [
       "(4, 2, 8)"
      ]
     },
     "execution_count": 58,
     "metadata": {},
     "output_type": "execute_result"
    }
   ],
   "source": [
    "square(2)"
   ]
  },
  {
   "cell_type": "code",
   "execution_count": 59,
   "id": "6f29137d",
   "metadata": {},
   "outputs": [
    {
     "data": {
      "text/plain": [
       "(4, 2)"
      ]
     },
     "execution_count": 59,
     "metadata": {},
     "output_type": "execute_result"
    }
   ],
   "source": [
    "variable = lambda num:num*num\n",
    "variable(2)"
   ]
  },
  {
   "cell_type": "code",
   "execution_count": 63,
   "id": "900be247",
   "metadata": {},
   "outputs": [
    {
     "data": {
      "text/plain": [
       "4"
      ]
     },
     "execution_count": 63,
     "metadata": {},
     "output_type": "execute_result"
    }
   ],
   "source": [
    "(lambda num:num*num)(2)"
   ]
  },
  {
   "cell_type": "code",
   "execution_count": 64,
   "id": "018912fa",
   "metadata": {},
   "outputs": [],
   "source": [
    "list1 = [1,2,3,4,5]\n",
    "list2 = [5,6,7,8,9]"
   ]
  },
  {
   "cell_type": "code",
   "execution_count": 67,
   "id": "fe90aa74",
   "metadata": {},
   "outputs": [],
   "source": [
    "def multiply(num1,num2):\n",
    "    return (num1,num2)"
   ]
  },
  {
   "cell_type": "code",
   "execution_count": 68,
   "id": "df149ed4",
   "metadata": {},
   "outputs": [
    {
     "data": {
      "text/plain": [
       "[(1, 5), (2, 6), (3, 7), (4, 8), (5, 9)]"
      ]
     },
     "execution_count": 68,
     "metadata": {},
     "output_type": "execute_result"
    }
   ],
   "source": [
    "list(map(multiply ,list1,list2))"
   ]
  },
  {
   "cell_type": "code",
   "execution_count": 69,
   "id": "44520bd0",
   "metadata": {},
   "outputs": [
    {
     "data": {
      "text/plain": [
       "[(1, 5), (2, 6), (3, 7), (4, 8), (5, 9)]"
      ]
     },
     "execution_count": 69,
     "metadata": {},
     "output_type": "execute_result"
    }
   ],
   "source": [
    "list(map( lambda num1,num2:(num1,num2),list1,list2))"
   ]
  },
  {
   "cell_type": "code",
   "execution_count": 70,
   "id": "9657b94e",
   "metadata": {},
   "outputs": [],
   "source": [
    "def get_length_of_string(str1,str2):\n",
    "    return len(str1+str2)"
   ]
  },
  {
   "cell_type": "code",
   "execution_count": 71,
   "id": "352f0cd2",
   "metadata": {},
   "outputs": [
    {
     "data": {
      "text/plain": [
       "8"
      ]
     },
     "execution_count": 71,
     "metadata": {},
     "output_type": "execute_result"
    }
   ],
   "source": [
    "get_length_of_string(\"Raj\",\"Raman\")"
   ]
  },
  {
   "cell_type": "code",
   "execution_count": 73,
   "id": "82ae296f",
   "metadata": {},
   "outputs": [
    {
     "data": {
      "text/plain": [
       "8"
      ]
     },
     "execution_count": 73,
     "metadata": {},
     "output_type": "execute_result"
    }
   ],
   "source": [
    "(lambda str1,str2:len(str1+str2))(\"Raj\",\"Raman\")"
   ]
  },
  {
   "cell_type": "code",
   "execution_count": 74,
   "id": "29ee2246",
   "metadata": {},
   "outputs": [],
   "source": [
    "function = lambda str1,str2:len(str1+str2)"
   ]
  },
  {
   "cell_type": "code",
   "execution_count": 75,
   "id": "cdb2cf80",
   "metadata": {},
   "outputs": [
    {
     "data": {
      "text/plain": [
       "8"
      ]
     },
     "execution_count": 75,
     "metadata": {},
     "output_type": "execute_result"
    }
   ],
   "source": [
    "function(\"Raj\",\"Raman\")"
   ]
  },
  {
   "cell_type": "code",
   "execution_count": 76,
   "id": "621a799a",
   "metadata": {},
   "outputs": [],
   "source": [
    "def is_odd(num):\n",
    "    if num%2!=0:\n",
    "        return True\n",
    "    else:\n",
    "        return False"
   ]
  },
  {
   "cell_type": "code",
   "execution_count": 80,
   "id": "c04ce4b2",
   "metadata": {},
   "outputs": [
    {
     "data": {
      "text/plain": [
       "[1, 3, 5]"
      ]
     },
     "execution_count": 80,
     "metadata": {},
     "output_type": "execute_result"
    }
   ],
   "source": [
    "list(filter(is_odd,[1,2,3,4,5]))"
   ]
  },
  {
   "cell_type": "code",
   "execution_count": 90,
   "id": "91472bd2",
   "metadata": {},
   "outputs": [
    {
     "data": {
      "text/plain": [
       "False"
      ]
     },
     "execution_count": 90,
     "metadata": {},
     "output_type": "execute_result"
    }
   ],
   "source": [
    "(lambda x:x%2!=0 )(4)"
   ]
  },
  {
   "cell_type": "code",
   "execution_count": 92,
   "id": "db46d6e8",
   "metadata": {},
   "outputs": [
    {
     "data": {
      "text/plain": [
       "[1, 3, 5]"
      ]
     },
     "execution_count": 92,
     "metadata": {},
     "output_type": "execute_result"
    }
   ],
   "source": [
    "list(filter(lambda x:x%2!=0 ,[1,2,3,4,5]))"
   ]
  },
  {
   "cell_type": "code",
   "execution_count": 89,
   "id": "4102182e",
   "metadata": {},
   "outputs": [
    {
     "data": {
      "text/plain": [
       "[2, 4]"
      ]
     },
     "execution_count": 89,
     "metadata": {},
     "output_type": "execute_result"
    }
   ],
   "source": [
    "list(filter(lambda x: x%2==0,[1,2,3,4,5]))"
   ]
  },
  {
   "cell_type": "code",
   "execution_count": 85,
   "id": "c6954124",
   "metadata": {},
   "outputs": [],
   "source": [
    "x=2"
   ]
  },
  {
   "cell_type": "code",
   "execution_count": 86,
   "id": "b201b774",
   "metadata": {},
   "outputs": [
    {
     "data": {
      "text/plain": [
       "True"
      ]
     },
     "execution_count": 86,
     "metadata": {},
     "output_type": "execute_result"
    }
   ],
   "source": [
    "x%2==0"
   ]
  },
  {
   "cell_type": "code",
   "execution_count": 87,
   "id": "d1619db5",
   "metadata": {},
   "outputs": [],
   "source": [
    "x=3"
   ]
  },
  {
   "cell_type": "code",
   "execution_count": 88,
   "id": "f13b95a5",
   "metadata": {},
   "outputs": [
    {
     "data": {
      "text/plain": [
       "False"
      ]
     },
     "execution_count": 88,
     "metadata": {},
     "output_type": "execute_result"
    }
   ],
   "source": [
    "x%2==0"
   ]
  },
  {
   "cell_type": "code",
   "execution_count": 95,
   "id": "6b6468b5",
   "metadata": {},
   "outputs": [
    {
     "data": {
      "text/plain": [
       "bool"
      ]
     },
     "execution_count": 95,
     "metadata": {},
     "output_type": "execute_result"
    }
   ],
   "source": [
    "type(True)"
   ]
  },
  {
   "cell_type": "code",
   "execution_count": 103,
   "id": "97f7db18",
   "metadata": {},
   "outputs": [
    {
     "data": {
      "text/plain": [
       "True"
      ]
     },
     "execution_count": 103,
     "metadata": {},
     "output_type": "execute_result"
    }
   ],
   "source": [
    "bool(-3.5)"
   ]
  },
  {
   "cell_type": "code",
   "execution_count": null,
   "id": "b01cd2fc",
   "metadata": {},
   "outputs": [],
   "source": []
  }
 ],
 "metadata": {
  "kernelspec": {
   "display_name": "Python 3 (ipykernel)",
   "language": "python",
   "name": "python3"
  },
  "language_info": {
   "codemirror_mode": {
    "name": "ipython",
    "version": 3
   },
   "file_extension": ".py",
   "mimetype": "text/x-python",
   "name": "python",
   "nbconvert_exporter": "python",
   "pygments_lexer": "ipython3",
   "version": "3.10.7"
  }
 },
 "nbformat": 4,
 "nbformat_minor": 5
}
